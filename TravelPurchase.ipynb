{
 "cells": [
  {
   "cell_type": "markdown",
   "id": "09bf97da",
   "metadata": {},
   "source": [
    "# Background and Context\n",
    "\n",
    "You are a Data Scientist for a tourism company named \"Visit with us\". The Policy Maker of the company wants to enable and establish a viable business model to expand the customer base.\n",
    "\n",
    "A viable business model is a central concept that helps you to understand the existing ways of doing the business and how to change the ways for the benefit of the tourism sector.\n",
    "\n",
    "One of the ways to expand the customer base is to introduce a new offering of packages.\n",
    "\n",
    "Currently, there are 5 types of packages the company is offering - Basic, Standard, Deluxe, Super Deluxe, King. Looking at the data of the last year, we observed that 18% of the customers purchased the packages.\n",
    "\n",
    "However, the marketing cost was quite high because customers were contacted at random without looking at the available information.\n",
    "\n",
    "The company is now planning to launch a new product i.e. Wellness Tourism Package. Wellness Tourism is defined as Travel that allows the traveler to maintain, enhance or kick-start a healthy lifestyle, and support or increase one's sense of well-being.\n",
    "\n",
    "However, this time company wants to harness the available data of existing and potential customers to make the marketing expenditure more efficient.\n",
    "\n",
    "You as a Data Scientist at \"Visit with us\" travel company have to analyze the customers' data and information to provide recommendations to the Policy Maker and Marketing Team and also build a model to predict the potential customer who is going to purchase the newly introduced travel package.\n",
    "\n",
    "Objective\n",
    "\n",
    "To predict which customer is more likely to purchase the newly introduced travel package.\n",
    "\n",
    "Data Dictionary\n",
    "\n",
    "Customer details:\n",
    "\n",
    "CustomerID: Unique customer ID\n",
    "ProdTaken: Whether the customer has purchased a package or not (0: No, 1: Yes)\n",
    "Age: Age of customer\n",
    "TypeofContact: How customer was contacted (Company Invited or Self Inquiry)\n",
    "CityTier: City tier depends on the development of a city, population, facilities, and living standards. The categories are ordered i.e. Tier 1 > Tier 2 > Tier 3\n",
    "Occupation: Occupation of customer\n",
    "Gender: Gender of customer\n",
    "NumberOfPersonVisiting: Total number of persons planning to take the trip with the customer\n",
    "PreferredPropertyStar: Preferred hotel property rating by customer\n",
    "MaritalStatus: Marital status of customer\n",
    "NumberOfTrips: Average number of trips in a year by customer\n",
    "Passport: The customer has a passport or not (0: No, 1: Yes)\n",
    "OwnCar: Whether the customers own a car or not (0: No, 1: Yes)\n",
    "NumberOfChildrenVisiting: Total number of children with age less than 5 planning to take the trip with the customer\n",
    "Designation: Designation of the customer in the current organization\n",
    "MonthlyIncome: Gross monthly income of the customer\n",
    "Customer interaction data: \n",
    "\n",
    "PitchSatisfactionScore: Sales pitch satisfaction score\n",
    "ProductPitched: Product pitched by the salesperson\n",
    "NumberOfFollowups: Total number of follow-ups has been done by the salesperson after the sales pitch\n",
    "DurationOfPitch: Duration of the pitch by a salesperson to the customer"
   ]
  },
  {
   "cell_type": "code",
   "execution_count": 1,
   "id": "2e397f43",
   "metadata": {},
   "outputs": [],
   "source": [
    "import numpy as np\n",
    "import pandas as pd\n",
    "import matplotlib.pyplot as plt\n",
    "import seaborn as sns\n",
    "from sklearn.tree import DecisionTreeClassifier\n",
    "from sklearn.model_selection import train_test_split\n",
    "from sklearn.metrics import confusion_matrix, classification_report\n",
    "from sklearn.metrics import accuracy_score,precision_score,recall_score,f1_score\n",
    "import scipy.stats as stats\n",
    "from sklearn import metrics\n",
    "from sklearn import tree\n",
    "from sklearn.model_selection import GridSearchCV\n",
    "from sklearn.ensemble import BaggingClassifier\n",
    "from sklearn.ensemble import RandomForestClassifier\n",
    "from sklearn.ensemble import AdaBoostClassifier, GradientBoostingClassifier\n",
    "#To install xgboost library use - !pip install xgboost \n",
    "from xgboost import XGBClassifier\n",
    "from sklearn.ensemble import StackingClassifier\n",
    "import warnings\n",
    "warnings.filterwarnings('ignore')"
   ]
  },
  {
   "cell_type": "markdown",
   "id": "febf7b3b",
   "metadata": {},
   "source": [
    "# 1   Load and Explore Data"
   ]
  },
  {
   "cell_type": "code",
   "execution_count": 2,
   "id": "2afa4b76",
   "metadata": {},
   "outputs": [],
   "source": [
    "df=pd.read_excel(\"Tourism.xlsx\",sheet_name=\"Tourism\")"
   ]
  },
  {
   "cell_type": "code",
   "execution_count": 3,
   "id": "0e2b4cb1",
   "metadata": {},
   "outputs": [],
   "source": [
    "# copying data to another varaible to avoid any changes to original data\n",
    "data=df.copy()"
   ]
  },
  {
   "cell_type": "code",
   "execution_count": 4,
   "id": "50d0250f",
   "metadata": {},
   "outputs": [
    {
     "data": {
      "text/plain": [
       "(4888, 20)"
      ]
     },
     "execution_count": 4,
     "metadata": {},
     "output_type": "execute_result"
    }
   ],
   "source": [
    "data.shape"
   ]
  },
  {
   "cell_type": "code",
   "execution_count": 5,
   "id": "092bfd26",
   "metadata": {},
   "outputs": [
    {
     "name": "stdout",
     "output_type": "stream",
     "text": [
      "<class 'pandas.core.frame.DataFrame'>\n",
      "RangeIndex: 4888 entries, 0 to 4887\n",
      "Data columns (total 20 columns):\n",
      " #   Column                    Non-Null Count  Dtype  \n",
      "---  ------                    --------------  -----  \n",
      " 0   CustomerID                4888 non-null   int64  \n",
      " 1   ProdTaken                 4888 non-null   int64  \n",
      " 2   Age                       4662 non-null   float64\n",
      " 3   TypeofContact             4863 non-null   object \n",
      " 4   CityTier                  4888 non-null   int64  \n",
      " 5   DurationOfPitch           4637 non-null   float64\n",
      " 6   Occupation                4888 non-null   object \n",
      " 7   Gender                    4888 non-null   object \n",
      " 8   NumberOfPersonVisiting    4888 non-null   int64  \n",
      " 9   NumberOfFollowups         4843 non-null   float64\n",
      " 10  ProductPitched            4888 non-null   object \n",
      " 11  PreferredPropertyStar     4862 non-null   float64\n",
      " 12  MaritalStatus             4888 non-null   object \n",
      " 13  NumberOfTrips             4748 non-null   float64\n",
      " 14  Passport                  4888 non-null   int64  \n",
      " 15  PitchSatisfactionScore    4888 non-null   int64  \n",
      " 16  OwnCar                    4888 non-null   int64  \n",
      " 17  NumberOfChildrenVisiting  4822 non-null   float64\n",
      " 18  Designation               4888 non-null   object \n",
      " 19  MonthlyIncome             4655 non-null   float64\n",
      "dtypes: float64(7), int64(7), object(6)\n",
      "memory usage: 763.9+ KB\n"
     ]
    }
   ],
   "source": [
    "data.info()"
   ]
  },
  {
   "cell_type": "markdown",
   "id": "b8bf0e80",
   "metadata": {},
   "source": [
    "We have numerical and categorical values. Dataset has missing values as well"
   ]
  },
  {
   "cell_type": "code",
   "execution_count": 6,
   "id": "06e03ed4",
   "metadata": {},
   "outputs": [
    {
     "data": {
      "text/html": [
       "<div>\n",
       "<style scoped>\n",
       "    .dataframe tbody tr th:only-of-type {\n",
       "        vertical-align: middle;\n",
       "    }\n",
       "\n",
       "    .dataframe tbody tr th {\n",
       "        vertical-align: top;\n",
       "    }\n",
       "\n",
       "    .dataframe thead th {\n",
       "        text-align: right;\n",
       "    }\n",
       "</style>\n",
       "<table border=\"1\" class=\"dataframe\">\n",
       "  <thead>\n",
       "    <tr style=\"text-align: right;\">\n",
       "      <th></th>\n",
       "      <th>CustomerID</th>\n",
       "      <th>ProdTaken</th>\n",
       "      <th>Age</th>\n",
       "      <th>TypeofContact</th>\n",
       "      <th>CityTier</th>\n",
       "      <th>DurationOfPitch</th>\n",
       "      <th>Occupation</th>\n",
       "      <th>Gender</th>\n",
       "      <th>NumberOfPersonVisiting</th>\n",
       "      <th>NumberOfFollowups</th>\n",
       "      <th>ProductPitched</th>\n",
       "      <th>PreferredPropertyStar</th>\n",
       "      <th>MaritalStatus</th>\n",
       "      <th>NumberOfTrips</th>\n",
       "      <th>Passport</th>\n",
       "      <th>PitchSatisfactionScore</th>\n",
       "      <th>OwnCar</th>\n",
       "      <th>NumberOfChildrenVisiting</th>\n",
       "      <th>Designation</th>\n",
       "      <th>MonthlyIncome</th>\n",
       "    </tr>\n",
       "  </thead>\n",
       "  <tbody>\n",
       "    <tr>\n",
       "      <th>0</th>\n",
       "      <td>200000</td>\n",
       "      <td>1</td>\n",
       "      <td>41.0</td>\n",
       "      <td>Self Enquiry</td>\n",
       "      <td>3</td>\n",
       "      <td>6.0</td>\n",
       "      <td>Salaried</td>\n",
       "      <td>Female</td>\n",
       "      <td>3</td>\n",
       "      <td>3.0</td>\n",
       "      <td>Deluxe</td>\n",
       "      <td>3.0</td>\n",
       "      <td>Single</td>\n",
       "      <td>1.0</td>\n",
       "      <td>1</td>\n",
       "      <td>2</td>\n",
       "      <td>1</td>\n",
       "      <td>0.0</td>\n",
       "      <td>Manager</td>\n",
       "      <td>20993.0</td>\n",
       "    </tr>\n",
       "    <tr>\n",
       "      <th>1</th>\n",
       "      <td>200001</td>\n",
       "      <td>0</td>\n",
       "      <td>49.0</td>\n",
       "      <td>Company Invited</td>\n",
       "      <td>1</td>\n",
       "      <td>14.0</td>\n",
       "      <td>Salaried</td>\n",
       "      <td>Male</td>\n",
       "      <td>3</td>\n",
       "      <td>4.0</td>\n",
       "      <td>Deluxe</td>\n",
       "      <td>4.0</td>\n",
       "      <td>Divorced</td>\n",
       "      <td>2.0</td>\n",
       "      <td>0</td>\n",
       "      <td>3</td>\n",
       "      <td>1</td>\n",
       "      <td>2.0</td>\n",
       "      <td>Manager</td>\n",
       "      <td>20130.0</td>\n",
       "    </tr>\n",
       "    <tr>\n",
       "      <th>2</th>\n",
       "      <td>200002</td>\n",
       "      <td>1</td>\n",
       "      <td>37.0</td>\n",
       "      <td>Self Enquiry</td>\n",
       "      <td>1</td>\n",
       "      <td>8.0</td>\n",
       "      <td>Free Lancer</td>\n",
       "      <td>Male</td>\n",
       "      <td>3</td>\n",
       "      <td>4.0</td>\n",
       "      <td>Basic</td>\n",
       "      <td>3.0</td>\n",
       "      <td>Single</td>\n",
       "      <td>7.0</td>\n",
       "      <td>1</td>\n",
       "      <td>3</td>\n",
       "      <td>0</td>\n",
       "      <td>0.0</td>\n",
       "      <td>Executive</td>\n",
       "      <td>17090.0</td>\n",
       "    </tr>\n",
       "    <tr>\n",
       "      <th>3</th>\n",
       "      <td>200003</td>\n",
       "      <td>0</td>\n",
       "      <td>33.0</td>\n",
       "      <td>Company Invited</td>\n",
       "      <td>1</td>\n",
       "      <td>9.0</td>\n",
       "      <td>Salaried</td>\n",
       "      <td>Female</td>\n",
       "      <td>2</td>\n",
       "      <td>3.0</td>\n",
       "      <td>Basic</td>\n",
       "      <td>3.0</td>\n",
       "      <td>Divorced</td>\n",
       "      <td>2.0</td>\n",
       "      <td>1</td>\n",
       "      <td>5</td>\n",
       "      <td>1</td>\n",
       "      <td>1.0</td>\n",
       "      <td>Executive</td>\n",
       "      <td>17909.0</td>\n",
       "    </tr>\n",
       "    <tr>\n",
       "      <th>4</th>\n",
       "      <td>200004</td>\n",
       "      <td>0</td>\n",
       "      <td>NaN</td>\n",
       "      <td>Self Enquiry</td>\n",
       "      <td>1</td>\n",
       "      <td>8.0</td>\n",
       "      <td>Small Business</td>\n",
       "      <td>Male</td>\n",
       "      <td>2</td>\n",
       "      <td>3.0</td>\n",
       "      <td>Basic</td>\n",
       "      <td>4.0</td>\n",
       "      <td>Divorced</td>\n",
       "      <td>1.0</td>\n",
       "      <td>0</td>\n",
       "      <td>5</td>\n",
       "      <td>1</td>\n",
       "      <td>0.0</td>\n",
       "      <td>Executive</td>\n",
       "      <td>18468.0</td>\n",
       "    </tr>\n",
       "  </tbody>\n",
       "</table>\n",
       "</div>"
      ],
      "text/plain": [
       "   CustomerID  ProdTaken   Age    TypeofContact  CityTier  DurationOfPitch  \\\n",
       "0      200000          1  41.0     Self Enquiry         3              6.0   \n",
       "1      200001          0  49.0  Company Invited         1             14.0   \n",
       "2      200002          1  37.0     Self Enquiry         1              8.0   \n",
       "3      200003          0  33.0  Company Invited         1              9.0   \n",
       "4      200004          0   NaN     Self Enquiry         1              8.0   \n",
       "\n",
       "       Occupation  Gender  NumberOfPersonVisiting  NumberOfFollowups  \\\n",
       "0        Salaried  Female                       3                3.0   \n",
       "1        Salaried    Male                       3                4.0   \n",
       "2     Free Lancer    Male                       3                4.0   \n",
       "3        Salaried  Female                       2                3.0   \n",
       "4  Small Business    Male                       2                3.0   \n",
       "\n",
       "  ProductPitched  PreferredPropertyStar MaritalStatus  NumberOfTrips  \\\n",
       "0         Deluxe                    3.0        Single            1.0   \n",
       "1         Deluxe                    4.0      Divorced            2.0   \n",
       "2          Basic                    3.0        Single            7.0   \n",
       "3          Basic                    3.0      Divorced            2.0   \n",
       "4          Basic                    4.0      Divorced            1.0   \n",
       "\n",
       "   Passport  PitchSatisfactionScore  OwnCar  NumberOfChildrenVisiting  \\\n",
       "0         1                       2       1                       0.0   \n",
       "1         0                       3       1                       2.0   \n",
       "2         1                       3       0                       0.0   \n",
       "3         1                       5       1                       1.0   \n",
       "4         0                       5       1                       0.0   \n",
       "\n",
       "  Designation  MonthlyIncome  \n",
       "0     Manager        20993.0  \n",
       "1     Manager        20130.0  \n",
       "2   Executive        17090.0  \n",
       "3   Executive        17909.0  \n",
       "4   Executive        18468.0  "
      ]
     },
     "execution_count": 6,
     "metadata": {},
     "output_type": "execute_result"
    }
   ],
   "source": [
    "data.head()"
   ]
  },
  {
   "cell_type": "code",
   "execution_count": 7,
   "id": "acb6e805",
   "metadata": {},
   "outputs": [
    {
     "data": {
      "text/html": [
       "<div>\n",
       "<style scoped>\n",
       "    .dataframe tbody tr th:only-of-type {\n",
       "        vertical-align: middle;\n",
       "    }\n",
       "\n",
       "    .dataframe tbody tr th {\n",
       "        vertical-align: top;\n",
       "    }\n",
       "\n",
       "    .dataframe thead th {\n",
       "        text-align: right;\n",
       "    }\n",
       "</style>\n",
       "<table border=\"1\" class=\"dataframe\">\n",
       "  <thead>\n",
       "    <tr style=\"text-align: right;\">\n",
       "      <th></th>\n",
       "      <th>CustomerID</th>\n",
       "      <th>ProdTaken</th>\n",
       "      <th>Age</th>\n",
       "      <th>TypeofContact</th>\n",
       "      <th>CityTier</th>\n",
       "      <th>DurationOfPitch</th>\n",
       "      <th>Occupation</th>\n",
       "      <th>Gender</th>\n",
       "      <th>NumberOfPersonVisiting</th>\n",
       "      <th>NumberOfFollowups</th>\n",
       "      <th>ProductPitched</th>\n",
       "      <th>PreferredPropertyStar</th>\n",
       "      <th>MaritalStatus</th>\n",
       "      <th>NumberOfTrips</th>\n",
       "      <th>Passport</th>\n",
       "      <th>PitchSatisfactionScore</th>\n",
       "      <th>OwnCar</th>\n",
       "      <th>NumberOfChildrenVisiting</th>\n",
       "      <th>Designation</th>\n",
       "      <th>MonthlyIncome</th>\n",
       "    </tr>\n",
       "  </thead>\n",
       "  <tbody>\n",
       "    <tr>\n",
       "      <th>4883</th>\n",
       "      <td>204883</td>\n",
       "      <td>1</td>\n",
       "      <td>49.0</td>\n",
       "      <td>Self Enquiry</td>\n",
       "      <td>3</td>\n",
       "      <td>9.0</td>\n",
       "      <td>Small Business</td>\n",
       "      <td>Male</td>\n",
       "      <td>3</td>\n",
       "      <td>5.0</td>\n",
       "      <td>Deluxe</td>\n",
       "      <td>4.0</td>\n",
       "      <td>Unmarried</td>\n",
       "      <td>2.0</td>\n",
       "      <td>1</td>\n",
       "      <td>1</td>\n",
       "      <td>1</td>\n",
       "      <td>1.0</td>\n",
       "      <td>Manager</td>\n",
       "      <td>26576.0</td>\n",
       "    </tr>\n",
       "    <tr>\n",
       "      <th>4884</th>\n",
       "      <td>204884</td>\n",
       "      <td>1</td>\n",
       "      <td>28.0</td>\n",
       "      <td>Company Invited</td>\n",
       "      <td>1</td>\n",
       "      <td>31.0</td>\n",
       "      <td>Salaried</td>\n",
       "      <td>Male</td>\n",
       "      <td>4</td>\n",
       "      <td>5.0</td>\n",
       "      <td>Basic</td>\n",
       "      <td>3.0</td>\n",
       "      <td>Single</td>\n",
       "      <td>3.0</td>\n",
       "      <td>1</td>\n",
       "      <td>3</td>\n",
       "      <td>1</td>\n",
       "      <td>2.0</td>\n",
       "      <td>Executive</td>\n",
       "      <td>21212.0</td>\n",
       "    </tr>\n",
       "    <tr>\n",
       "      <th>4885</th>\n",
       "      <td>204885</td>\n",
       "      <td>1</td>\n",
       "      <td>52.0</td>\n",
       "      <td>Self Enquiry</td>\n",
       "      <td>3</td>\n",
       "      <td>17.0</td>\n",
       "      <td>Salaried</td>\n",
       "      <td>Female</td>\n",
       "      <td>4</td>\n",
       "      <td>4.0</td>\n",
       "      <td>Standard</td>\n",
       "      <td>4.0</td>\n",
       "      <td>Married</td>\n",
       "      <td>7.0</td>\n",
       "      <td>0</td>\n",
       "      <td>1</td>\n",
       "      <td>1</td>\n",
       "      <td>3.0</td>\n",
       "      <td>Senior Manager</td>\n",
       "      <td>31820.0</td>\n",
       "    </tr>\n",
       "    <tr>\n",
       "      <th>4886</th>\n",
       "      <td>204886</td>\n",
       "      <td>1</td>\n",
       "      <td>19.0</td>\n",
       "      <td>Self Enquiry</td>\n",
       "      <td>3</td>\n",
       "      <td>16.0</td>\n",
       "      <td>Small Business</td>\n",
       "      <td>Male</td>\n",
       "      <td>3</td>\n",
       "      <td>4.0</td>\n",
       "      <td>Basic</td>\n",
       "      <td>3.0</td>\n",
       "      <td>Single</td>\n",
       "      <td>3.0</td>\n",
       "      <td>0</td>\n",
       "      <td>5</td>\n",
       "      <td>0</td>\n",
       "      <td>2.0</td>\n",
       "      <td>Executive</td>\n",
       "      <td>20289.0</td>\n",
       "    </tr>\n",
       "    <tr>\n",
       "      <th>4887</th>\n",
       "      <td>204887</td>\n",
       "      <td>1</td>\n",
       "      <td>36.0</td>\n",
       "      <td>Self Enquiry</td>\n",
       "      <td>1</td>\n",
       "      <td>14.0</td>\n",
       "      <td>Salaried</td>\n",
       "      <td>Male</td>\n",
       "      <td>4</td>\n",
       "      <td>4.0</td>\n",
       "      <td>Basic</td>\n",
       "      <td>4.0</td>\n",
       "      <td>Unmarried</td>\n",
       "      <td>3.0</td>\n",
       "      <td>1</td>\n",
       "      <td>3</td>\n",
       "      <td>1</td>\n",
       "      <td>2.0</td>\n",
       "      <td>Executive</td>\n",
       "      <td>24041.0</td>\n",
       "    </tr>\n",
       "  </tbody>\n",
       "</table>\n",
       "</div>"
      ],
      "text/plain": [
       "      CustomerID  ProdTaken   Age    TypeofContact  CityTier  DurationOfPitch  \\\n",
       "4883      204883          1  49.0     Self Enquiry         3              9.0   \n",
       "4884      204884          1  28.0  Company Invited         1             31.0   \n",
       "4885      204885          1  52.0     Self Enquiry         3             17.0   \n",
       "4886      204886          1  19.0     Self Enquiry         3             16.0   \n",
       "4887      204887          1  36.0     Self Enquiry         1             14.0   \n",
       "\n",
       "          Occupation  Gender  NumberOfPersonVisiting  NumberOfFollowups  \\\n",
       "4883  Small Business    Male                       3                5.0   \n",
       "4884        Salaried    Male                       4                5.0   \n",
       "4885        Salaried  Female                       4                4.0   \n",
       "4886  Small Business    Male                       3                4.0   \n",
       "4887        Salaried    Male                       4                4.0   \n",
       "\n",
       "     ProductPitched  PreferredPropertyStar MaritalStatus  NumberOfTrips  \\\n",
       "4883         Deluxe                    4.0     Unmarried            2.0   \n",
       "4884          Basic                    3.0        Single            3.0   \n",
       "4885       Standard                    4.0       Married            7.0   \n",
       "4886          Basic                    3.0        Single            3.0   \n",
       "4887          Basic                    4.0     Unmarried            3.0   \n",
       "\n",
       "      Passport  PitchSatisfactionScore  OwnCar  NumberOfChildrenVisiting  \\\n",
       "4883         1                       1       1                       1.0   \n",
       "4884         1                       3       1                       2.0   \n",
       "4885         0                       1       1                       3.0   \n",
       "4886         0                       5       0                       2.0   \n",
       "4887         1                       3       1                       2.0   \n",
       "\n",
       "         Designation  MonthlyIncome  \n",
       "4883         Manager        26576.0  \n",
       "4884       Executive        21212.0  \n",
       "4885  Senior Manager        31820.0  \n",
       "4886       Executive        20289.0  \n",
       "4887       Executive        24041.0  "
      ]
     },
     "execution_count": 7,
     "metadata": {},
     "output_type": "execute_result"
    }
   ],
   "source": [
    "data.tail()"
   ]
  },
  {
   "cell_type": "code",
   "execution_count": 8,
   "id": "61f2a0af",
   "metadata": {},
   "outputs": [
    {
     "data": {
      "text/html": [
       "<div>\n",
       "<style scoped>\n",
       "    .dataframe tbody tr th:only-of-type {\n",
       "        vertical-align: middle;\n",
       "    }\n",
       "\n",
       "    .dataframe tbody tr th {\n",
       "        vertical-align: top;\n",
       "    }\n",
       "\n",
       "    .dataframe thead th {\n",
       "        text-align: right;\n",
       "    }\n",
       "</style>\n",
       "<table border=\"1\" class=\"dataframe\">\n",
       "  <thead>\n",
       "    <tr style=\"text-align: right;\">\n",
       "      <th></th>\n",
       "      <th>CustomerID</th>\n",
       "      <th>ProdTaken</th>\n",
       "      <th>Age</th>\n",
       "      <th>TypeofContact</th>\n",
       "      <th>CityTier</th>\n",
       "      <th>DurationOfPitch</th>\n",
       "      <th>Occupation</th>\n",
       "      <th>Gender</th>\n",
       "      <th>NumberOfPersonVisiting</th>\n",
       "      <th>NumberOfFollowups</th>\n",
       "      <th>ProductPitched</th>\n",
       "      <th>PreferredPropertyStar</th>\n",
       "      <th>MaritalStatus</th>\n",
       "      <th>NumberOfTrips</th>\n",
       "      <th>Passport</th>\n",
       "      <th>PitchSatisfactionScore</th>\n",
       "      <th>OwnCar</th>\n",
       "      <th>NumberOfChildrenVisiting</th>\n",
       "      <th>Designation</th>\n",
       "      <th>MonthlyIncome</th>\n",
       "    </tr>\n",
       "  </thead>\n",
       "  <tbody>\n",
       "    <tr>\n",
       "      <th>435</th>\n",
       "      <td>200435</td>\n",
       "      <td>1</td>\n",
       "      <td>33.0</td>\n",
       "      <td>Self Enquiry</td>\n",
       "      <td>1</td>\n",
       "      <td>21.0</td>\n",
       "      <td>Small Business</td>\n",
       "      <td>Male</td>\n",
       "      <td>2</td>\n",
       "      <td>3.0</td>\n",
       "      <td>Standard</td>\n",
       "      <td>3.0</td>\n",
       "      <td>Divorced</td>\n",
       "      <td>1.0</td>\n",
       "      <td>1</td>\n",
       "      <td>5</td>\n",
       "      <td>0</td>\n",
       "      <td>0.0</td>\n",
       "      <td>Senior Manager</td>\n",
       "      <td>28610.0</td>\n",
       "    </tr>\n",
       "    <tr>\n",
       "      <th>947</th>\n",
       "      <td>200947</td>\n",
       "      <td>1</td>\n",
       "      <td>52.0</td>\n",
       "      <td>Self Enquiry</td>\n",
       "      <td>3</td>\n",
       "      <td>11.0</td>\n",
       "      <td>Salaried</td>\n",
       "      <td>Male</td>\n",
       "      <td>3</td>\n",
       "      <td>3.0</td>\n",
       "      <td>Standard</td>\n",
       "      <td>4.0</td>\n",
       "      <td>Unmarried</td>\n",
       "      <td>1.0</td>\n",
       "      <td>1</td>\n",
       "      <td>4</td>\n",
       "      <td>1</td>\n",
       "      <td>1.0</td>\n",
       "      <td>Senior Manager</td>\n",
       "      <td>23446.0</td>\n",
       "    </tr>\n",
       "    <tr>\n",
       "      <th>1777</th>\n",
       "      <td>201777</td>\n",
       "      <td>0</td>\n",
       "      <td>38.0</td>\n",
       "      <td>Self Enquiry</td>\n",
       "      <td>1</td>\n",
       "      <td>31.0</td>\n",
       "      <td>Salaried</td>\n",
       "      <td>Female</td>\n",
       "      <td>2</td>\n",
       "      <td>4.0</td>\n",
       "      <td>Standard</td>\n",
       "      <td>4.0</td>\n",
       "      <td>Married</td>\n",
       "      <td>4.0</td>\n",
       "      <td>0</td>\n",
       "      <td>3</td>\n",
       "      <td>0</td>\n",
       "      <td>1.0</td>\n",
       "      <td>Senior Manager</td>\n",
       "      <td>27061.0</td>\n",
       "    </tr>\n",
       "    <tr>\n",
       "      <th>3026</th>\n",
       "      <td>203026</td>\n",
       "      <td>0</td>\n",
       "      <td>41.0</td>\n",
       "      <td>Company Invited</td>\n",
       "      <td>1</td>\n",
       "      <td>9.0</td>\n",
       "      <td>Small Business</td>\n",
       "      <td>Female</td>\n",
       "      <td>3</td>\n",
       "      <td>2.0</td>\n",
       "      <td>Deluxe</td>\n",
       "      <td>4.0</td>\n",
       "      <td>Divorced</td>\n",
       "      <td>3.0</td>\n",
       "      <td>0</td>\n",
       "      <td>3</td>\n",
       "      <td>0</td>\n",
       "      <td>2.0</td>\n",
       "      <td>Manager</td>\n",
       "      <td>22922.0</td>\n",
       "    </tr>\n",
       "    <tr>\n",
       "      <th>1467</th>\n",
       "      <td>201467</td>\n",
       "      <td>0</td>\n",
       "      <td>27.0</td>\n",
       "      <td>Self Enquiry</td>\n",
       "      <td>1</td>\n",
       "      <td>10.0</td>\n",
       "      <td>Salaried</td>\n",
       "      <td>Male</td>\n",
       "      <td>2</td>\n",
       "      <td>1.0</td>\n",
       "      <td>Deluxe</td>\n",
       "      <td>4.0</td>\n",
       "      <td>Married</td>\n",
       "      <td>2.0</td>\n",
       "      <td>1</td>\n",
       "      <td>4</td>\n",
       "      <td>1</td>\n",
       "      <td>0.0</td>\n",
       "      <td>Manager</td>\n",
       "      <td>21142.0</td>\n",
       "    </tr>\n",
       "    <tr>\n",
       "      <th>3513</th>\n",
       "      <td>203513</td>\n",
       "      <td>0</td>\n",
       "      <td>29.0</td>\n",
       "      <td>Self Enquiry</td>\n",
       "      <td>1</td>\n",
       "      <td>7.0</td>\n",
       "      <td>Salaried</td>\n",
       "      <td>Male</td>\n",
       "      <td>4</td>\n",
       "      <td>5.0</td>\n",
       "      <td>Basic</td>\n",
       "      <td>3.0</td>\n",
       "      <td>Married</td>\n",
       "      <td>3.0</td>\n",
       "      <td>0</td>\n",
       "      <td>4</td>\n",
       "      <td>0</td>\n",
       "      <td>2.0</td>\n",
       "      <td>Executive</td>\n",
       "      <td>20241.0</td>\n",
       "    </tr>\n",
       "    <tr>\n",
       "      <th>1907</th>\n",
       "      <td>201907</td>\n",
       "      <td>0</td>\n",
       "      <td>30.0</td>\n",
       "      <td>Self Enquiry</td>\n",
       "      <td>3</td>\n",
       "      <td>13.0</td>\n",
       "      <td>Small Business</td>\n",
       "      <td>Male</td>\n",
       "      <td>2</td>\n",
       "      <td>3.0</td>\n",
       "      <td>Basic</td>\n",
       "      <td>4.0</td>\n",
       "      <td>Single</td>\n",
       "      <td>1.0</td>\n",
       "      <td>0</td>\n",
       "      <td>1</td>\n",
       "      <td>0</td>\n",
       "      <td>0.0</td>\n",
       "      <td>Executive</td>\n",
       "      <td>17983.0</td>\n",
       "    </tr>\n",
       "    <tr>\n",
       "      <th>3486</th>\n",
       "      <td>203486</td>\n",
       "      <td>0</td>\n",
       "      <td>45.0</td>\n",
       "      <td>Company Invited</td>\n",
       "      <td>1</td>\n",
       "      <td>12.0</td>\n",
       "      <td>Salaried</td>\n",
       "      <td>Male</td>\n",
       "      <td>3</td>\n",
       "      <td>5.0</td>\n",
       "      <td>Basic</td>\n",
       "      <td>3.0</td>\n",
       "      <td>Unmarried</td>\n",
       "      <td>5.0</td>\n",
       "      <td>0</td>\n",
       "      <td>1</td>\n",
       "      <td>0</td>\n",
       "      <td>2.0</td>\n",
       "      <td>Executive</td>\n",
       "      <td>21840.0</td>\n",
       "    </tr>\n",
       "    <tr>\n",
       "      <th>1161</th>\n",
       "      <td>201161</td>\n",
       "      <td>0</td>\n",
       "      <td>38.0</td>\n",
       "      <td>Self Enquiry</td>\n",
       "      <td>1</td>\n",
       "      <td>8.0</td>\n",
       "      <td>Small Business</td>\n",
       "      <td>Female</td>\n",
       "      <td>2</td>\n",
       "      <td>4.0</td>\n",
       "      <td>Standard</td>\n",
       "      <td>3.0</td>\n",
       "      <td>Married</td>\n",
       "      <td>4.0</td>\n",
       "      <td>1</td>\n",
       "      <td>5</td>\n",
       "      <td>1</td>\n",
       "      <td>1.0</td>\n",
       "      <td>Senior Manager</td>\n",
       "      <td>22756.0</td>\n",
       "    </tr>\n",
       "    <tr>\n",
       "      <th>3128</th>\n",
       "      <td>203128</td>\n",
       "      <td>0</td>\n",
       "      <td>41.0</td>\n",
       "      <td>Self Enquiry</td>\n",
       "      <td>3</td>\n",
       "      <td>17.0</td>\n",
       "      <td>Small Business</td>\n",
       "      <td>Male</td>\n",
       "      <td>4</td>\n",
       "      <td>5.0</td>\n",
       "      <td>Standard</td>\n",
       "      <td>4.0</td>\n",
       "      <td>Married</td>\n",
       "      <td>4.0</td>\n",
       "      <td>0</td>\n",
       "      <td>4</td>\n",
       "      <td>1</td>\n",
       "      <td>2.0</td>\n",
       "      <td>Senior Manager</td>\n",
       "      <td>28383.0</td>\n",
       "    </tr>\n",
       "  </tbody>\n",
       "</table>\n",
       "</div>"
      ],
      "text/plain": [
       "      CustomerID  ProdTaken   Age    TypeofContact  CityTier  DurationOfPitch  \\\n",
       "435       200435          1  33.0     Self Enquiry         1             21.0   \n",
       "947       200947          1  52.0     Self Enquiry         3             11.0   \n",
       "1777      201777          0  38.0     Self Enquiry         1             31.0   \n",
       "3026      203026          0  41.0  Company Invited         1              9.0   \n",
       "1467      201467          0  27.0     Self Enquiry         1             10.0   \n",
       "3513      203513          0  29.0     Self Enquiry         1              7.0   \n",
       "1907      201907          0  30.0     Self Enquiry         3             13.0   \n",
       "3486      203486          0  45.0  Company Invited         1             12.0   \n",
       "1161      201161          0  38.0     Self Enquiry         1              8.0   \n",
       "3128      203128          0  41.0     Self Enquiry         3             17.0   \n",
       "\n",
       "          Occupation  Gender  NumberOfPersonVisiting  NumberOfFollowups  \\\n",
       "435   Small Business    Male                       2                3.0   \n",
       "947         Salaried    Male                       3                3.0   \n",
       "1777        Salaried  Female                       2                4.0   \n",
       "3026  Small Business  Female                       3                2.0   \n",
       "1467        Salaried    Male                       2                1.0   \n",
       "3513        Salaried    Male                       4                5.0   \n",
       "1907  Small Business    Male                       2                3.0   \n",
       "3486        Salaried    Male                       3                5.0   \n",
       "1161  Small Business  Female                       2                4.0   \n",
       "3128  Small Business    Male                       4                5.0   \n",
       "\n",
       "     ProductPitched  PreferredPropertyStar MaritalStatus  NumberOfTrips  \\\n",
       "435        Standard                    3.0      Divorced            1.0   \n",
       "947        Standard                    4.0     Unmarried            1.0   \n",
       "1777       Standard                    4.0       Married            4.0   \n",
       "3026         Deluxe                    4.0      Divorced            3.0   \n",
       "1467         Deluxe                    4.0       Married            2.0   \n",
       "3513          Basic                    3.0       Married            3.0   \n",
       "1907          Basic                    4.0        Single            1.0   \n",
       "3486          Basic                    3.0     Unmarried            5.0   \n",
       "1161       Standard                    3.0       Married            4.0   \n",
       "3128       Standard                    4.0       Married            4.0   \n",
       "\n",
       "      Passport  PitchSatisfactionScore  OwnCar  NumberOfChildrenVisiting  \\\n",
       "435          1                       5       0                       0.0   \n",
       "947          1                       4       1                       1.0   \n",
       "1777         0                       3       0                       1.0   \n",
       "3026         0                       3       0                       2.0   \n",
       "1467         1                       4       1                       0.0   \n",
       "3513         0                       4       0                       2.0   \n",
       "1907         0                       1       0                       0.0   \n",
       "3486         0                       1       0                       2.0   \n",
       "1161         1                       5       1                       1.0   \n",
       "3128         0                       4       1                       2.0   \n",
       "\n",
       "         Designation  MonthlyIncome  \n",
       "435   Senior Manager        28610.0  \n",
       "947   Senior Manager        23446.0  \n",
       "1777  Senior Manager        27061.0  \n",
       "3026         Manager        22922.0  \n",
       "1467         Manager        21142.0  \n",
       "3513       Executive        20241.0  \n",
       "1907       Executive        17983.0  \n",
       "3486       Executive        21840.0  \n",
       "1161  Senior Manager        22756.0  \n",
       "3128  Senior Manager        28383.0  "
      ]
     },
     "execution_count": 8,
     "metadata": {},
     "output_type": "execute_result"
    }
   ],
   "source": [
    "data.sample(10)"
   ]
  },
  {
   "cell_type": "markdown",
   "id": "d111ac94",
   "metadata": {},
   "source": [
    "Let us check null value count in individual variables"
   ]
  },
  {
   "cell_type": "code",
   "execution_count": 9,
   "id": "f67e8d22",
   "metadata": {},
   "outputs": [
    {
     "data": {
      "text/plain": [
       "226"
      ]
     },
     "execution_count": 9,
     "metadata": {},
     "output_type": "execute_result"
    }
   ],
   "source": [
    "data['Age'].isnull().sum()"
   ]
  },
  {
   "cell_type": "code",
   "execution_count": 10,
   "id": "46e4a01b",
   "metadata": {},
   "outputs": [
    {
     "data": {
      "text/plain": [
       "25"
      ]
     },
     "execution_count": 10,
     "metadata": {},
     "output_type": "execute_result"
    }
   ],
   "source": [
    "data['TypeofContact'].isnull().sum()"
   ]
  },
  {
   "cell_type": "code",
   "execution_count": 11,
   "id": "1c6a3103",
   "metadata": {},
   "outputs": [
    {
     "data": {
      "text/plain": [
       "251"
      ]
     },
     "execution_count": 11,
     "metadata": {},
     "output_type": "execute_result"
    }
   ],
   "source": [
    "data['DurationOfPitch'].isnull().sum()"
   ]
  },
  {
   "cell_type": "code",
   "execution_count": 12,
   "id": "996e4441",
   "metadata": {},
   "outputs": [
    {
     "data": {
      "text/plain": [
       "45"
      ]
     },
     "execution_count": 12,
     "metadata": {},
     "output_type": "execute_result"
    }
   ],
   "source": [
    "data['NumberOfFollowups'].isnull().sum()"
   ]
  },
  {
   "cell_type": "code",
   "execution_count": 13,
   "id": "82cb2a9b",
   "metadata": {},
   "outputs": [
    {
     "data": {
      "text/plain": [
       "140"
      ]
     },
     "execution_count": 13,
     "metadata": {},
     "output_type": "execute_result"
    }
   ],
   "source": [
    "data['NumberOfTrips'].isnull().sum()"
   ]
  },
  {
   "cell_type": "code",
   "execution_count": 14,
   "id": "6e43f879",
   "metadata": {},
   "outputs": [
    {
     "data": {
      "text/plain": [
       "66"
      ]
     },
     "execution_count": 14,
     "metadata": {},
     "output_type": "execute_result"
    }
   ],
   "source": [
    "data['NumberOfChildrenVisiting'].isnull().sum()"
   ]
  },
  {
   "cell_type": "code",
   "execution_count": 15,
   "id": "5015af4c",
   "metadata": {},
   "outputs": [
    {
     "data": {
      "text/plain": [
       "233"
      ]
     },
     "execution_count": 15,
     "metadata": {},
     "output_type": "execute_result"
    }
   ],
   "source": [
    "data['MonthlyIncome'].isnull().sum()"
   ]
  },
  {
   "cell_type": "markdown",
   "id": "be6cda13",
   "metadata": {},
   "source": [
    "Multiple variables have null values in the given dataset"
   ]
  },
  {
   "cell_type": "markdown",
   "id": "ba2f7413",
   "metadata": {},
   "source": [
    "# 2   Data Pre-Processing"
   ]
  },
  {
   "cell_type": "code",
   "execution_count": 16,
   "id": "7fd1e0d8",
   "metadata": {},
   "outputs": [],
   "source": [
    "#Drop Customer ID as that is not much significant for model building\n",
    "data.drop(['CustomerID'], axis=1,inplace=True)"
   ]
  },
  {
   "cell_type": "code",
   "execution_count": 17,
   "id": "02621ac0",
   "metadata": {},
   "outputs": [
    {
     "data": {
      "text/plain": [
       "141"
      ]
     },
     "execution_count": 17,
     "metadata": {},
     "output_type": "execute_result"
    }
   ],
   "source": [
    "data.duplicated().sum()"
   ]
  },
  {
   "cell_type": "markdown",
   "id": "bbe7078b",
   "metadata": {},
   "source": [
    "We have 141 duplicate records in the given data"
   ]
  },
  {
   "cell_type": "code",
   "execution_count": 18,
   "id": "63af2b8f",
   "metadata": {},
   "outputs": [],
   "source": [
    "data.sort_values(\"Age\", inplace = True)"
   ]
  },
  {
   "cell_type": "code",
   "execution_count": 19,
   "id": "13c6078f",
   "metadata": {
    "scrolled": false
   },
   "outputs": [
    {
     "data": {
      "text/html": [
       "<div>\n",
       "<style scoped>\n",
       "    .dataframe tbody tr th:only-of-type {\n",
       "        vertical-align: middle;\n",
       "    }\n",
       "\n",
       "    .dataframe tbody tr th {\n",
       "        vertical-align: top;\n",
       "    }\n",
       "\n",
       "    .dataframe thead th {\n",
       "        text-align: right;\n",
       "    }\n",
       "</style>\n",
       "<table border=\"1\" class=\"dataframe\">\n",
       "  <thead>\n",
       "    <tr style=\"text-align: right;\">\n",
       "      <th></th>\n",
       "      <th>ProdTaken</th>\n",
       "      <th>Age</th>\n",
       "      <th>TypeofContact</th>\n",
       "      <th>CityTier</th>\n",
       "      <th>DurationOfPitch</th>\n",
       "      <th>Occupation</th>\n",
       "      <th>Gender</th>\n",
       "      <th>NumberOfPersonVisiting</th>\n",
       "      <th>NumberOfFollowups</th>\n",
       "      <th>ProductPitched</th>\n",
       "      <th>PreferredPropertyStar</th>\n",
       "      <th>MaritalStatus</th>\n",
       "      <th>NumberOfTrips</th>\n",
       "      <th>Passport</th>\n",
       "      <th>PitchSatisfactionScore</th>\n",
       "      <th>OwnCar</th>\n",
       "      <th>NumberOfChildrenVisiting</th>\n",
       "      <th>Designation</th>\n",
       "      <th>MonthlyIncome</th>\n",
       "    </tr>\n",
       "  </thead>\n",
       "  <tbody>\n",
       "    <tr>\n",
       "      <th>563</th>\n",
       "      <td>0</td>\n",
       "      <td>25.0</td>\n",
       "      <td>Self Enquiry</td>\n",
       "      <td>3</td>\n",
       "      <td>32.0</td>\n",
       "      <td>Small Business</td>\n",
       "      <td>Female</td>\n",
       "      <td>2</td>\n",
       "      <td>3.0</td>\n",
       "      <td>Deluxe</td>\n",
       "      <td>3.0</td>\n",
       "      <td>Single</td>\n",
       "      <td>2.0</td>\n",
       "      <td>0</td>\n",
       "      <td>4</td>\n",
       "      <td>0</td>\n",
       "      <td>0.0</td>\n",
       "      <td>Manager</td>\n",
       "      <td>21180.0</td>\n",
       "    </tr>\n",
       "    <tr>\n",
       "      <th>2033</th>\n",
       "      <td>0</td>\n",
       "      <td>25.0</td>\n",
       "      <td>Self Enquiry</td>\n",
       "      <td>3</td>\n",
       "      <td>32.0</td>\n",
       "      <td>Small Business</td>\n",
       "      <td>Female</td>\n",
       "      <td>2</td>\n",
       "      <td>3.0</td>\n",
       "      <td>Deluxe</td>\n",
       "      <td>3.0</td>\n",
       "      <td>Single</td>\n",
       "      <td>2.0</td>\n",
       "      <td>0</td>\n",
       "      <td>4</td>\n",
       "      <td>0</td>\n",
       "      <td>0.0</td>\n",
       "      <td>Manager</td>\n",
       "      <td>21180.0</td>\n",
       "    </tr>\n",
       "    <tr>\n",
       "      <th>1923</th>\n",
       "      <td>1</td>\n",
       "      <td>26.0</td>\n",
       "      <td>Company Invited</td>\n",
       "      <td>2</td>\n",
       "      <td>23.0</td>\n",
       "      <td>Salaried</td>\n",
       "      <td>Female</td>\n",
       "      <td>2</td>\n",
       "      <td>3.0</td>\n",
       "      <td>Basic</td>\n",
       "      <td>3.0</td>\n",
       "      <td>Married</td>\n",
       "      <td>1.0</td>\n",
       "      <td>1</td>\n",
       "      <td>5</td>\n",
       "      <td>0</td>\n",
       "      <td>1.0</td>\n",
       "      <td>Executive</td>\n",
       "      <td>17741.0</td>\n",
       "    </tr>\n",
       "    <tr>\n",
       "      <th>3007</th>\n",
       "      <td>0</td>\n",
       "      <td>26.0</td>\n",
       "      <td>Self Enquiry</td>\n",
       "      <td>3</td>\n",
       "      <td>33.0</td>\n",
       "      <td>Small Business</td>\n",
       "      <td>Fe Male</td>\n",
       "      <td>3</td>\n",
       "      <td>4.0</td>\n",
       "      <td>Deluxe</td>\n",
       "      <td>3.0</td>\n",
       "      <td>Unmarried</td>\n",
       "      <td>3.0</td>\n",
       "      <td>0</td>\n",
       "      <td>4</td>\n",
       "      <td>0</td>\n",
       "      <td>1.0</td>\n",
       "      <td>Manager</td>\n",
       "      <td>24858.0</td>\n",
       "    </tr>\n",
       "    <tr>\n",
       "      <th>453</th>\n",
       "      <td>1</td>\n",
       "      <td>26.0</td>\n",
       "      <td>Company Invited</td>\n",
       "      <td>2</td>\n",
       "      <td>23.0</td>\n",
       "      <td>Salaried</td>\n",
       "      <td>Female</td>\n",
       "      <td>2</td>\n",
       "      <td>3.0</td>\n",
       "      <td>Basic</td>\n",
       "      <td>3.0</td>\n",
       "      <td>Married</td>\n",
       "      <td>1.0</td>\n",
       "      <td>1</td>\n",
       "      <td>5</td>\n",
       "      <td>0</td>\n",
       "      <td>1.0</td>\n",
       "      <td>Executive</td>\n",
       "      <td>17741.0</td>\n",
       "    </tr>\n",
       "    <tr>\n",
       "      <th>...</th>\n",
       "      <td>...</td>\n",
       "      <td>...</td>\n",
       "      <td>...</td>\n",
       "      <td>...</td>\n",
       "      <td>...</td>\n",
       "      <td>...</td>\n",
       "      <td>...</td>\n",
       "      <td>...</td>\n",
       "      <td>...</td>\n",
       "      <td>...</td>\n",
       "      <td>...</td>\n",
       "      <td>...</td>\n",
       "      <td>...</td>\n",
       "      <td>...</td>\n",
       "      <td>...</td>\n",
       "      <td>...</td>\n",
       "      <td>...</td>\n",
       "      <td>...</td>\n",
       "      <td>...</td>\n",
       "    </tr>\n",
       "    <tr>\n",
       "      <th>2182</th>\n",
       "      <td>0</td>\n",
       "      <td>NaN</td>\n",
       "      <td>Self Enquiry</td>\n",
       "      <td>1</td>\n",
       "      <td>19.0</td>\n",
       "      <td>Salaried</td>\n",
       "      <td>Female</td>\n",
       "      <td>2</td>\n",
       "      <td>3.0</td>\n",
       "      <td>Basic</td>\n",
       "      <td>3.0</td>\n",
       "      <td>Single</td>\n",
       "      <td>4.0</td>\n",
       "      <td>0</td>\n",
       "      <td>3</td>\n",
       "      <td>1</td>\n",
       "      <td>0.0</td>\n",
       "      <td>Executive</td>\n",
       "      <td>18452.0</td>\n",
       "    </tr>\n",
       "    <tr>\n",
       "      <th>2189</th>\n",
       "      <td>0</td>\n",
       "      <td>NaN</td>\n",
       "      <td>Self Enquiry</td>\n",
       "      <td>3</td>\n",
       "      <td>10.0</td>\n",
       "      <td>Salaried</td>\n",
       "      <td>Female</td>\n",
       "      <td>2</td>\n",
       "      <td>3.0</td>\n",
       "      <td>Deluxe</td>\n",
       "      <td>3.0</td>\n",
       "      <td>Single</td>\n",
       "      <td>2.0</td>\n",
       "      <td>1</td>\n",
       "      <td>3</td>\n",
       "      <td>1</td>\n",
       "      <td>1.0</td>\n",
       "      <td>Manager</td>\n",
       "      <td>NaN</td>\n",
       "    </tr>\n",
       "    <tr>\n",
       "      <th>2195</th>\n",
       "      <td>1</td>\n",
       "      <td>NaN</td>\n",
       "      <td>Self Enquiry</td>\n",
       "      <td>1</td>\n",
       "      <td>20.0</td>\n",
       "      <td>Salaried</td>\n",
       "      <td>Male</td>\n",
       "      <td>2</td>\n",
       "      <td>4.0</td>\n",
       "      <td>Basic</td>\n",
       "      <td>4.0</td>\n",
       "      <td>Married</td>\n",
       "      <td>2.0</td>\n",
       "      <td>1</td>\n",
       "      <td>5</td>\n",
       "      <td>1</td>\n",
       "      <td>1.0</td>\n",
       "      <td>Executive</td>\n",
       "      <td>NaN</td>\n",
       "    </tr>\n",
       "    <tr>\n",
       "      <th>2237</th>\n",
       "      <td>0</td>\n",
       "      <td>NaN</td>\n",
       "      <td>Self Enquiry</td>\n",
       "      <td>1</td>\n",
       "      <td>9.0</td>\n",
       "      <td>Salaried</td>\n",
       "      <td>Female</td>\n",
       "      <td>2</td>\n",
       "      <td>3.0</td>\n",
       "      <td>Deluxe</td>\n",
       "      <td>4.0</td>\n",
       "      <td>Single</td>\n",
       "      <td>4.0</td>\n",
       "      <td>0</td>\n",
       "      <td>4</td>\n",
       "      <td>1</td>\n",
       "      <td>0.0</td>\n",
       "      <td>Manager</td>\n",
       "      <td>NaN</td>\n",
       "    </tr>\n",
       "    <tr>\n",
       "      <th>2344</th>\n",
       "      <td>0</td>\n",
       "      <td>NaN</td>\n",
       "      <td>Self Enquiry</td>\n",
       "      <td>1</td>\n",
       "      <td>13.0</td>\n",
       "      <td>Salaried</td>\n",
       "      <td>Male</td>\n",
       "      <td>2</td>\n",
       "      <td>3.0</td>\n",
       "      <td>Deluxe</td>\n",
       "      <td>3.0</td>\n",
       "      <td>Married</td>\n",
       "      <td>2.0</td>\n",
       "      <td>0</td>\n",
       "      <td>5</td>\n",
       "      <td>1</td>\n",
       "      <td>1.0</td>\n",
       "      <td>Manager</td>\n",
       "      <td>18491.0</td>\n",
       "    </tr>\n",
       "  </tbody>\n",
       "</table>\n",
       "<p>282 rows × 19 columns</p>\n",
       "</div>"
      ],
      "text/plain": [
       "      ProdTaken   Age    TypeofContact  CityTier  DurationOfPitch  \\\n",
       "563           0  25.0     Self Enquiry         3             32.0   \n",
       "2033          0  25.0     Self Enquiry         3             32.0   \n",
       "1923          1  26.0  Company Invited         2             23.0   \n",
       "3007          0  26.0     Self Enquiry         3             33.0   \n",
       "453           1  26.0  Company Invited         2             23.0   \n",
       "...         ...   ...              ...       ...              ...   \n",
       "2182          0   NaN     Self Enquiry         1             19.0   \n",
       "2189          0   NaN     Self Enquiry         3             10.0   \n",
       "2195          1   NaN     Self Enquiry         1             20.0   \n",
       "2237          0   NaN     Self Enquiry         1              9.0   \n",
       "2344          0   NaN     Self Enquiry         1             13.0   \n",
       "\n",
       "          Occupation   Gender  NumberOfPersonVisiting  NumberOfFollowups  \\\n",
       "563   Small Business   Female                       2                3.0   \n",
       "2033  Small Business   Female                       2                3.0   \n",
       "1923        Salaried   Female                       2                3.0   \n",
       "3007  Small Business  Fe Male                       3                4.0   \n",
       "453         Salaried   Female                       2                3.0   \n",
       "...              ...      ...                     ...                ...   \n",
       "2182        Salaried   Female                       2                3.0   \n",
       "2189        Salaried   Female                       2                3.0   \n",
       "2195        Salaried     Male                       2                4.0   \n",
       "2237        Salaried   Female                       2                3.0   \n",
       "2344        Salaried     Male                       2                3.0   \n",
       "\n",
       "     ProductPitched  PreferredPropertyStar MaritalStatus  NumberOfTrips  \\\n",
       "563          Deluxe                    3.0        Single            2.0   \n",
       "2033         Deluxe                    3.0        Single            2.0   \n",
       "1923          Basic                    3.0       Married            1.0   \n",
       "3007         Deluxe                    3.0     Unmarried            3.0   \n",
       "453           Basic                    3.0       Married            1.0   \n",
       "...             ...                    ...           ...            ...   \n",
       "2182          Basic                    3.0        Single            4.0   \n",
       "2189         Deluxe                    3.0        Single            2.0   \n",
       "2195          Basic                    4.0       Married            2.0   \n",
       "2237         Deluxe                    4.0        Single            4.0   \n",
       "2344         Deluxe                    3.0       Married            2.0   \n",
       "\n",
       "      Passport  PitchSatisfactionScore  OwnCar  NumberOfChildrenVisiting  \\\n",
       "563          0                       4       0                       0.0   \n",
       "2033         0                       4       0                       0.0   \n",
       "1923         1                       5       0                       1.0   \n",
       "3007         0                       4       0                       1.0   \n",
       "453          1                       5       0                       1.0   \n",
       "...        ...                     ...     ...                       ...   \n",
       "2182         0                       3       1                       0.0   \n",
       "2189         1                       3       1                       1.0   \n",
       "2195         1                       5       1                       1.0   \n",
       "2237         0                       4       1                       0.0   \n",
       "2344         0                       5       1                       1.0   \n",
       "\n",
       "     Designation  MonthlyIncome  \n",
       "563      Manager        21180.0  \n",
       "2033     Manager        21180.0  \n",
       "1923   Executive        17741.0  \n",
       "3007     Manager        24858.0  \n",
       "453    Executive        17741.0  \n",
       "...          ...            ...  \n",
       "2182   Executive        18452.0  \n",
       "2189     Manager            NaN  \n",
       "2195   Executive            NaN  \n",
       "2237     Manager            NaN  \n",
       "2344     Manager        18491.0  \n",
       "\n",
       "[282 rows x 19 columns]"
      ]
     },
     "execution_count": 19,
     "metadata": {},
     "output_type": "execute_result"
    }
   ],
   "source": [
    "data[data.duplicated(keep=False)]"
   ]
  },
  {
   "cell_type": "code",
   "execution_count": 20,
   "id": "79fa390c",
   "metadata": {},
   "outputs": [],
   "source": [
    "#drop duplicate records\n",
    "data.drop_duplicates(subset =None,keep =\"first\", inplace = True)"
   ]
  },
  {
   "cell_type": "code",
   "execution_count": 21,
   "id": "4023d2f8",
   "metadata": {},
   "outputs": [
    {
     "data": {
      "text/plain": [
       "0"
      ]
     },
     "execution_count": 21,
     "metadata": {},
     "output_type": "execute_result"
    }
   ],
   "source": [
    "data.duplicated().sum()"
   ]
  },
  {
   "cell_type": "code",
   "execution_count": 22,
   "id": "80500ee0",
   "metadata": {},
   "outputs": [
    {
     "data": {
      "text/plain": [
       "array(['Male', 'Female', 'Fe Male'], dtype=object)"
      ]
     },
     "execution_count": 22,
     "metadata": {},
     "output_type": "execute_result"
    }
   ],
   "source": [
    "data['Gender'].unique()"
   ]
  },
  {
   "cell_type": "markdown",
   "id": "6b62aa27",
   "metadata": {},
   "source": [
    "Looks like Gender records have some typos and need to fix those"
   ]
  },
  {
   "cell_type": "code",
   "execution_count": 23,
   "id": "dde47e4a",
   "metadata": {},
   "outputs": [],
   "source": [
    "data['Gender'].replace(to_replace=['Fe Male'],value='Female',inplace=True)"
   ]
  },
  {
   "cell_type": "markdown",
   "id": "c536e13c",
   "metadata": {},
   "source": [
    "# 3   EDA"
   ]
  },
  {
   "cell_type": "markdown",
   "id": "5dec114a",
   "metadata": {},
   "source": [
    "Univariate analysis"
   ]
  },
  {
   "cell_type": "code",
   "execution_count": 24,
   "id": "7234f602",
   "metadata": {},
   "outputs": [],
   "source": [
    "# While doing uni-variate analysis of numerical variables we want to study their central tendency \n",
    "# and dispersion.\n",
    "# Let us write a function that will help us create boxplot and histogram for any input numerical \n",
    "# variable.\n",
    "# This function takes the numerical column as the input and returns the boxplots \n",
    "# and histograms for the variable.\n",
    "# Let us see if this help us write faster and cleaner code.\n",
    "def histogram_boxplot(feature, figsize=(15,10), bins = None):\n",
    "    \"\"\" Boxplot and histogram combined\n",
    "    feature: 1-d feature array\n",
    "    figsize: size of fig (default (9,8))\n",
    "    bins: number of bins (default None / auto)\n",
    "    \"\"\"\n",
    "    f2, (ax_box2, ax_hist2) = plt.subplots(nrows = 2, # Number of rows of the subplot grid= 2\n",
    "                                           sharex = True, # x-axis will be shared among all subplots\n",
    "                                           gridspec_kw = {\"height_ratios\": (.25, .75)}, \n",
    "                                           figsize = figsize \n",
    "                                           ) # creating the 2 subplots\n",
    "    sns.boxplot(feature, ax=ax_box2, showmeans=True, color='violet') # boxplot will be created and a star will indicate the mean value of the column\n",
    "    sns.distplot(feature, kde=F, ax=ax_hist2, bins=bins,palette=\"winter\") if bins else sns.distplot(feature, kde=False, ax=ax_hist2) # For histogram\n",
    "    ax_hist2.axvline(np.mean(feature), color='green', linestyle='--') # Add mean to the histogram\n",
    "    ax_hist2.axvline(np.median(feature), color='black', linestyle='-') # Add median to the histogram"
   ]
  },
  {
   "cell_type": "code",
   "execution_count": 25,
   "id": "eebb4ea6",
   "metadata": {},
   "outputs": [
    {
     "data": {
      "image/png": "[encoded data removed]",
      "text/plain": [
       "<Figure size 1080x720 with 2 Axes>"
      ]
     },
     "metadata": {
      "needs_background": "light"
     },
     "output_type": "display_data"
    }
   ],
   "source": [
    "histogram_boxplot(data['Age'])"
   ]
  },
  {
   "cell_type": "markdown",
   "id": "6b8dfe59",
   "metadata": {},
   "source": [
    "Customer Age groups are widely distributed and mean age is around 38"
   ]
  },
  {
   "cell_type": "code",
   "execution_count": 26,
   "id": "b1fa93b1",
   "metadata": {
    "scrolled": false
   },
   "outputs": [
    {
     "data": {
      "image/png": "[encoded data removed]",
      "text/plain": [
       "<Figure size 1080x720 with 2 Axes>"
      ]
     },
     "metadata": {
      "needs_background": "light"
     },
     "output_type": "display_data"
    }
   ],
   "source": [
    "    histogram_boxplot(data['CityTier'])"
   ]
  },
  {
   "cell_type": "markdown",
   "id": "8f65ac9c",
   "metadata": {},
   "source": [
    "Highest number of customers lives in tier 1 cities"
   ]
  },
  {
   "cell_type": "code",
   "execution_count": 27,
   "id": "c0d694ad",
   "metadata": {},
   "outputs": [
    {
     "data": {
      "image/png": "[encoded data removed]",
      "text/plain": [
       "<Figure size 1080x720 with 2 Axes>"
      ]
     },
     "metadata": {
      "needs_background": "light"
     },
     "output_type": "display_data"
    }
   ],
   "source": [
    "    histogram_boxplot(data['PreferredPropertyStar'])"
   ]
  },
  {
   "cell_type": "markdown",
   "id": "cb7c5e8d",
   "metadata": {},
   "source": [
    "Most customers prefer properties with at least >3 stars"
   ]
  },
  {
   "cell_type": "code",
   "execution_count": 28,
   "id": "fe3fa7dc",
   "metadata": {},
   "outputs": [
    {
     "data": {
      "image/png": "[encoded data removed]",
      "text/plain": [
       "<Figure size 1080x720 with 2 Axes>"
      ]
     },
     "metadata": {
      "needs_background": "light"
     },
     "output_type": "display_data"
    }
   ],
   "source": [
    "    histogram_boxplot(data['NumberOfTrips'])"
   ]
  },
  {
   "cell_type": "markdown",
   "id": "e9d45e43",
   "metadata": {},
   "source": [
    "Most customers take an average of three trips but the data seems to have few outliers"
   ]
  },
  {
   "cell_type": "code",
   "execution_count": 29,
   "id": "da544aeb",
   "metadata": {},
   "outputs": [
    {
     "data": {
      "image/png": "[encoded data removed]",
      "text/plain": [
       "<Figure size 1080x720 with 2 Axes>"
      ]
     },
     "metadata": {
      "needs_background": "light"
     },
     "output_type": "display_data"
    }
   ],
   "source": [
    "    histogram_boxplot(data['MonthlyIncome'])"
   ]
  },
  {
   "cell_type": "markdown",
   "id": "9d86d6f2",
   "metadata": {},
   "source": [
    "Income data rightly skewed with around 20k average income"
   ]
  },
  {
   "cell_type": "code",
   "execution_count": 30,
   "id": "78794244",
   "metadata": {},
   "outputs": [
    {
     "data": {
      "image/png": "[encoded data removed]",
      "text/plain": [
       "<Figure size 1080x720 with 2 Axes>"
      ]
     },
     "metadata": {
      "needs_background": "light"
     },
     "output_type": "display_data"
    }
   ],
   "source": [
    "histogram_boxplot(data['DurationOfPitch'])"
   ]
  },
  {
   "cell_type": "markdown",
   "id": "9e94dbac",
   "metadata": {},
   "source": [
    "Duration of pitch is rightly skewed with average around 15 with few outliers"
   ]
  },
  {
   "cell_type": "code",
   "execution_count": 31,
   "id": "707f0bb0",
   "metadata": {
    "scrolled": false
   },
   "outputs": [
    {
     "data": {
      "image/png": "[encoded data removed]",
      "text/plain": [
       "<Figure size 1080x720 with 2 Axes>"
      ]
     },
     "metadata": {
      "needs_background": "light"
     },
     "output_type": "display_data"
    }
   ],
   "source": [
    "histogram_boxplot(data['NumberOfPersonVisiting'])"
   ]
  },
  {
   "cell_type": "markdown",
   "id": "18146301",
   "metadata": {},
   "source": [
    "Most trips are having at least 3 person "
   ]
  },
  {
   "cell_type": "code",
   "execution_count": 32,
   "id": "4dd48118",
   "metadata": {},
   "outputs": [],
   "source": [
    "# function to create labeled barplots\n",
    "\n",
    "\n",
    "def labeled_barplot(data, feature, perc=False, n=None):\n",
    "    \"\"\"\n",
    "    Barplot with percentage at the top\n",
    "\n",
    "    data: dataframe\n",
    "    feature: dataframe column\n",
    "    perc: whether to display percentages instead of count (default is False)\n",
    "    n: displays the top n category levels (default is None, i.e., display all levels)\n",
    "    \"\"\"\n",
    "\n",
    "    total = len(data[feature])  # length of the column\n",
    "    count = data[feature].nunique()\n",
    "    if n is None:\n",
    "        plt.figure(figsize=(count + 1, 5))\n",
    "    else:\n",
    "        plt.figure(figsize=(n + 1, 5))\n",
    "\n",
    "    plt.xticks(rotation=90, fontsize=15)\n",
    "    ax = sns.countplot(\n",
    "        data=data,\n",
    "        x=feature,\n",
    "        palette=\"Paired\",\n",
    "        order=data[feature].value_counts().index[:n].sort_values(),\n",
    "    )\n",
    "\n",
    "    for p in ax.patches:\n",
    "        if perc == True:\n",
    "            label = \"{:.1f}%\".format(\n",
    "                100 * p.get_height() / total\n",
    "            )  # percentage of each class of the category\n",
    "        else:\n",
    "            label = p.get_height()  # count of each level of the category\n",
    "\n",
    "        x = p.get_x() + p.get_width() / 2  # width of the plot\n",
    "        y = p.get_height()  # height of the plot\n",
    "\n",
    "        ax.annotate(\n",
    "            label,\n",
    "            (x, y),\n",
    "            ha=\"center\",\n",
    "            va=\"center\",\n",
    "            size=12,\n",
    "            xytext=(0, 5),\n",
    "            textcoords=\"offset points\",\n",
    "        )  # annotate the percentage\n",
    "\n",
    "    plt.show()  # show the plot"
   ]
  },
  {
   "cell_type": "code",
   "execution_count": 33,
   "id": "48ffef22",
   "metadata": {},
   "outputs": [
    {
     "data": {
      "image/png": "[encoded data removed]",
      "text/plain": [
       "<Figure size 216x360 with 1 Axes>"
      ]
     },
     "metadata": {
      "needs_background": "light"
     },
     "output_type": "display_data"
    }
   ],
   "source": [
    "labeled_barplot(data, \"Passport\", perc=True)"
   ]
  },
  {
   "cell_type": "markdown",
   "id": "fcc30916",
   "metadata": {},
   "source": [
    "71 percent or two third of customers do not have passport"
   ]
  },
  {
   "cell_type": "code",
   "execution_count": 34,
   "id": "eefef71c",
   "metadata": {},
   "outputs": [
    {
     "data": {
      "image/png": "[encoded data removed]",
      "text/plain": [
       "<Figure size 216x360 with 1 Axes>"
      ]
     },
     "metadata": {
      "needs_background": "light"
     },
     "output_type": "display_data"
    }
   ],
   "source": [
    "labeled_barplot(data, \"OwnCar\", perc=True)"
   ]
  },
  {
   "cell_type": "markdown",
   "id": "655da777",
   "metadata": {},
   "source": [
    "Almost two third own a car"
   ]
  },
  {
   "cell_type": "code",
   "execution_count": 35,
   "id": "d8ac9b26",
   "metadata": {},
   "outputs": [
    {
     "data": {
      "image/png": "[encoded data removed]",
      "text/plain": [
       "<Figure size 216x360 with 1 Axes>"
      ]
     },
     "metadata": {
      "needs_background": "light"
     },
     "output_type": "display_data"
    }
   ],
   "source": [
    "labeled_barplot(data, \"TypeofContact\", perc=True)"
   ]
  },
  {
   "cell_type": "markdown",
   "id": "c38aa8f2",
   "metadata": {},
   "source": [
    "Around 70% customers come through self enquiry"
   ]
  },
  {
   "cell_type": "code",
   "execution_count": 36,
   "id": "eab1748d",
   "metadata": {},
   "outputs": [
    {
     "data": {
      "image/png": "[encoded data removed]",
      "text/plain": [
       "<Figure size 360x360 with 1 Axes>"
      ]
     },
     "metadata": {
      "needs_background": "light"
     },
     "output_type": "display_data"
    }
   ],
   "source": [
    "labeled_barplot(data, \"Occupation\", perc=True)"
   ]
  },
  {
   "cell_type": "markdown",
   "id": "fb33313a",
   "metadata": {},
   "source": [
    "Majority of customers are from either salaried or small business"
   ]
  },
  {
   "cell_type": "code",
   "execution_count": 37,
   "id": "4f81d29e",
   "metadata": {},
   "outputs": [
    {
     "data": {
      "image/png": "[encoded data removed]",
      "text/plain": [
       "<Figure size 216x360 with 1 Axes>"
      ]
     },
     "metadata": {
      "needs_background": "light"
     },
     "output_type": "display_data"
    }
   ],
   "source": [
    "labeled_barplot(data, \"Gender\", perc=True)"
   ]
  },
  {
   "cell_type": "markdown",
   "id": "a3f2d589",
   "metadata": {},
   "source": [
    "Overall around 60% customers are male"
   ]
  },
  {
   "cell_type": "code",
   "execution_count": 38,
   "id": "e86bb0f0",
   "metadata": {},
   "outputs": [
    {
     "data": {
      "image/png": "[encoded data removed]",
      "text/plain": [
       "<Figure size 432x360 with 1 Axes>"
      ]
     },
     "metadata": {
      "needs_background": "light"
     },
     "output_type": "display_data"
    }
   ],
   "source": [
    "labeled_barplot(data, \"ProductPitched\", perc=True)"
   ]
  },
  {
   "cell_type": "markdown",
   "id": "1835e298",
   "metadata": {},
   "source": [
    "Basic and Deluxe packages are highly pitched"
   ]
  },
  {
   "cell_type": "code",
   "execution_count": 39,
   "id": "7bdacd71",
   "metadata": {},
   "outputs": [
    {
     "data": {
      "image/png": "[encoded data removed]",
      "text/plain": [
       "<Figure size 360x360 with 1 Axes>"
      ]
     },
     "metadata": {
      "needs_background": "light"
     },
     "output_type": "display_data"
    }
   ],
   "source": [
    "labeled_barplot(data, \"MaritalStatus\", perc=True)"
   ]
  },
  {
   "cell_type": "markdown",
   "id": "4b949109",
   "metadata": {},
   "source": [
    "Almost half of customers are married"
   ]
  },
  {
   "cell_type": "code",
   "execution_count": 40,
   "id": "2cf37115",
   "metadata": {},
   "outputs": [
    {
     "data": {
      "image/png": "[encoded data removed]",
      "text/plain": [
       "<Figure size 432x360 with 1 Axes>"
      ]
     },
     "metadata": {
      "needs_background": "light"
     },
     "output_type": "display_data"
    }
   ],
   "source": [
    "labeled_barplot(data, \"Designation\", perc=True)"
   ]
  },
  {
   "cell_type": "markdown",
   "id": "b3a18ce8",
   "metadata": {},
   "source": [
    "Higher number of customer who purchase packages are executives and managers "
   ]
  },
  {
   "cell_type": "markdown",
   "id": "64be8edb",
   "metadata": {},
   "source": [
    "Bivariate Analysis"
   ]
  },
  {
   "cell_type": "code",
   "execution_count": 41,
   "id": "221ca9e7",
   "metadata": {
    "scrolled": false
   },
   "outputs": [
    {
     "data": {
      "image/png": "[encoded data removed]",
      "text/plain": [
       "<Figure size 1440x720 with 2 Axes>"
      ]
     },
     "metadata": {
      "needs_background": "light"
     },
     "output_type": "display_data"
    }
   ],
   "source": [
    "plt.figure(figsize=(20,10))\n",
    "sns.heatmap(data.corr(),annot=True,vmin=-1,vmax=1,fmt='.2f')\n",
    "plt.show()"
   ]
  },
  {
   "cell_type": "markdown",
   "id": "9ac162a5",
   "metadata": {},
   "source": [
    "* Age and monthly income have positive correlation. \n",
    "\n",
    "* Number of persons visiting and number of children visiting have positive correlation\n",
    "\n",
    "* Passport and ProdTaken also have positive correlation"
   ]
  },
  {
   "cell_type": "code",
   "execution_count": 42,
   "id": "7e65568b",
   "metadata": {},
   "outputs": [],
   "source": [
    "def stacked_barplot(data, predictor, target):\n",
    "    \"\"\"\n",
    "    Print the category counts and plot a stacked bar chart\n",
    "\n",
    "    data: dataframe\n",
    "    predictor: independent variable\n",
    "    target: target variable\n",
    "    \"\"\"\n",
    "    count = data[predictor].nunique()\n",
    "    sorter = data[target].value_counts().index[-1]\n",
    "    tab1 = pd.crosstab(data[predictor], data[target], margins=True).sort_values(\n",
    "        by=sorter, ascending=False\n",
    "    )\n",
    "    print(tab1)\n",
    "    print(\"-\" * 120)\n",
    "    tab = pd.crosstab(data[predictor], data[target], normalize=\"index\").sort_values(\n",
    "        by=sorter, ascending=False\n",
    "    )\n",
    "    tab.plot(kind=\"bar\", stacked=True, figsize=(count + 5, 5))\n",
    "    plt.legend(\n",
    "        loc=\"lower left\", frameon=False,\n",
    "    )\n",
    "    plt.legend(loc=\"upper left\", bbox_to_anchor=(1, 1))\n",
    "    plt.show()"
   ]
  },
  {
   "cell_type": "code",
   "execution_count": 43,
   "id": "7c1cad6b",
   "metadata": {},
   "outputs": [
    {
     "name": "stdout",
     "output_type": "stream",
     "text": [
      "ProdTaken     0    1   All\n",
      "CityTier                  \n",
      "All        3853  894  4747\n",
      "1          2592  506  3098\n",
      "3          1115  346  1461\n",
      "2           146   42   188\n",
      "------------------------------------------------------------------------------------------------------------------------\n"
     ]
    },
    {
     "data": {
      "image/png": "[encoded data removed]",
      "text/plain": [
       "<Figure size 576x360 with 1 Axes>"
      ]
     },
     "metadata": {
      "needs_background": "light"
     },
     "output_type": "display_data"
    }
   ],
   "source": [
    "stacked_barplot(data,\"CityTier\",\"ProdTaken\")"
   ]
  },
  {
   "cell_type": "markdown",
   "id": "70547b51",
   "metadata": {},
   "source": [
    "Purchase rate is almost same for tier 2 and 3 but at the same time tier 1 city customers also bought in higher"
   ]
  },
  {
   "cell_type": "code",
   "execution_count": 44,
   "id": "f7338471",
   "metadata": {},
   "outputs": [
    {
     "name": "stdout",
     "output_type": "stream",
     "text": [
      "ProdTaken     0    1   All\n",
      "OwnCar                    \n",
      "All        3853  894  4747\n",
      "1          2390  542  2932\n",
      "0          1463  352  1815\n",
      "------------------------------------------------------------------------------------------------------------------------\n"
     ]
    },
    {
     "data": {
      "image/png": "[encoded data removed]",
      "text/plain": [
       "<Figure size 504x360 with 1 Axes>"
      ]
     },
     "metadata": {
      "needs_background": "light"
     },
     "output_type": "display_data"
    }
   ],
   "source": [
    "stacked_barplot(data,\"OwnCar\",\"ProdTaken\")"
   ]
  },
  {
   "cell_type": "markdown",
   "id": "a7e77b16",
   "metadata": {},
   "source": [
    "Both customer with and without car purchased travel packages equally equally "
   ]
  },
  {
   "cell_type": "code",
   "execution_count": 45,
   "id": "36be128d",
   "metadata": {},
   "outputs": [
    {
     "name": "stdout",
     "output_type": "stream",
     "text": [
      "ProdTaken          0    1   All\n",
      "Occupation                     \n",
      "All             3853  894  4747\n",
      "Salaried        1893  400  2293\n",
      "Small Business  1654  374  2028\n",
      "Large Business   306  118   424\n",
      "Free Lancer        0    2     2\n",
      "------------------------------------------------------------------------------------------------------------------------\n"
     ]
    },
    {
     "data": {
      "image/png": "[encoded data removed]",
      "text/plain": [
       "<Figure size 648x360 with 1 Axes>"
      ]
     },
     "metadata": {
      "needs_background": "light"
     },
     "output_type": "display_data"
    }
   ],
   "source": [
    "stacked_barplot(data,\"Occupation\",\"ProdTaken\")"
   ]
  },
  {
   "cell_type": "markdown",
   "id": "b87eea91",
   "metadata": {},
   "source": [
    "Number os customers are higher in Salaried and Small Business who took earlier packages. \n",
    "We can also see large businesses are purchasing packages from \"Visit with us\""
   ]
  },
  {
   "cell_type": "code",
   "execution_count": 46,
   "id": "c950522c",
   "metadata": {},
   "outputs": [
    {
     "name": "stdout",
     "output_type": "stream",
     "text": [
      "ProdTaken     0    1   All\n",
      "Gender                    \n",
      "All        3853  894  4747\n",
      "Male       2273  562  2835\n",
      "Female     1580  332  1912\n",
      "------------------------------------------------------------------------------------------------------------------------\n"
     ]
    },
    {
     "data": {
      "image/png": "[encoded data removed]",
      "text/plain": [
       "<Figure size 504x360 with 1 Axes>"
      ]
     },
     "metadata": {
      "needs_background": "light"
     },
     "output_type": "display_data"
    }
   ],
   "source": [
    "stacked_barplot(data,\"Gender\",\"ProdTaken\")"
   ]
  },
  {
   "cell_type": "markdown",
   "id": "ce3fdfc2",
   "metadata": {},
   "source": [
    "Both male and female customers took earlier tavel packages almost equally"
   ]
  },
  {
   "cell_type": "code",
   "execution_count": 47,
   "id": "567551e2",
   "metadata": {},
   "outputs": [
    {
     "name": "stdout",
     "output_type": "stream",
     "text": [
      "ProdTaken         0    1   All\n",
      "MaritalStatus                 \n",
      "All            3853  894  4747\n",
      "Married        1965  314  2279\n",
      "Single          578  297   875\n",
      "Unmarried       484  159   643\n",
      "Divorced        826  124   950\n",
      "------------------------------------------------------------------------------------------------------------------------\n"
     ]
    },
    {
     "data": {
      "image/png": "[encoded data removed]",
      "text/plain": [
       "<Figure size 648x360 with 1 Axes>"
      ]
     },
     "metadata": {
      "needs_background": "light"
     },
     "output_type": "display_data"
    }
   ],
   "source": [
    "stacked_barplot(data,\"MaritalStatus\",\"ProdTaken\")"
   ]
  },
  {
   "cell_type": "markdown",
   "id": "b4d37e7c",
   "metadata": {},
   "source": [
    "Singles customers are highest percentage previous package takers. "
   ]
  },
  {
   "cell_type": "code",
   "execution_count": 48,
   "id": "c5faab88",
   "metadata": {},
   "outputs": [
    {
     "name": "stdout",
     "output_type": "stream",
     "text": [
      "ProdTaken          0    1   All\n",
      "Designation                    \n",
      "All             3853  894  4747\n",
      "Executive       1260  540  1800\n",
      "Manager         1486  198  1684\n",
      "Senior Manager   594  120   714\n",
      "VP               205   20   225\n",
      "AVP              308   16   324\n",
      "------------------------------------------------------------------------------------------------------------------------\n"
     ]
    },
    {
     "data": {
      "image/png": "[encoded data removed]",
      "text/plain": [
       "<Figure size 720x360 with 1 Axes>"
      ]
     },
     "metadata": {
      "needs_background": "light"
     },
     "output_type": "display_data"
    }
   ],
   "source": [
    "stacked_barplot(data,\"Designation\",\"ProdTaken\")"
   ]
  },
  {
   "cell_type": "markdown",
   "id": "70abfc96",
   "metadata": {},
   "source": [
    "Executives and Managers purchase packages in higher number"
   ]
  },
  {
   "cell_type": "code",
   "execution_count": 49,
   "id": "dc8beca4",
   "metadata": {},
   "outputs": [
    {
     "name": "stdout",
     "output_type": "stream",
     "text": [
      "Designation     AVP  Executive  Manager  Senior Manager   VP   All\n",
      "ProductPitched                                                    \n",
      "King              0          0        0               0  225   225\n",
      "All             324       1800     1684             714  225  4747\n",
      "Basic             0       1800        0               0    0  1800\n",
      "Deluxe            0          0     1684               0    0  1684\n",
      "Standard          0          0        0             714    0   714\n",
      "Super Deluxe    324          0        0               0    0   324\n",
      "------------------------------------------------------------------------------------------------------------------------\n"
     ]
    },
    {
     "data": {
      "image/png": "[encoded data removed]",
      "text/plain": [
       "<Figure size 720x360 with 1 Axes>"
      ]
     },
     "metadata": {
      "needs_background": "light"
     },
     "output_type": "display_data"
    }
   ],
   "source": [
    "stacked_barplot(data, \"ProductPitched\", \"Designation\")"
   ]
  },
  {
   "cell_type": "markdown",
   "id": "4f5defc9",
   "metadata": {},
   "source": [
    "Executives pitched with basic packages while managers pitched for deluxe packages"
   ]
  },
  {
   "cell_type": "code",
   "execution_count": 50,
   "id": "a00b6bfc",
   "metadata": {},
   "outputs": [
    {
     "name": "stdout",
     "output_type": "stream",
     "text": [
      "MaritalStatus   Divorced  Married  Single  Unmarried   All\n",
      "ProductPitched                                            \n",
      "All                  950     2279     875        643  4747\n",
      "Deluxe               336      838     206        304  1684\n",
      "Basic                332      794     497        177  1800\n",
      "Standard             142      366      50        156   714\n",
      "Super Deluxe          88      158      72          6   324\n",
      "King                  52      123      50          0   225\n",
      "------------------------------------------------------------------------------------------------------------------------\n"
     ]
    },
    {
     "data": {
      "image/png": "[encoded data removed]",
      "text/plain": [
       "<Figure size 720x360 with 1 Axes>"
      ]
     },
     "metadata": {
      "needs_background": "light"
     },
     "output_type": "display_data"
    }
   ],
   "source": [
    "stacked_barplot(data, \"ProductPitched\", \"MaritalStatus\")"
   ]
  },
  {
   "cell_type": "markdown",
   "id": "5e61b8f7",
   "metadata": {},
   "source": [
    "Singles choose basic as well as King almost equally. At the same time all packages equally attract all groups"
   ]
  },
  {
   "cell_type": "code",
   "execution_count": 51,
   "id": "5cf57437",
   "metadata": {
    "scrolled": false
   },
   "outputs": [
    {
     "name": "stdout",
     "output_type": "stream",
     "text": [
      "Gender                 Female  Male   All\n",
      "PreferredPropertyStar                    \n",
      "All                      1900  2821  4721\n",
      "3.0                      1137  1768  2905\n",
      "5.0                       389   549   938\n",
      "4.0                       374   504   878\n",
      "------------------------------------------------------------------------------------------------------------------------\n"
     ]
    },
    {
     "data": {
      "image/png": "[encoded data removed]",
      "text/plain": [
       "<Figure size 576x360 with 1 Axes>"
      ]
     },
     "metadata": {
      "needs_background": "light"
     },
     "output_type": "display_data"
    }
   ],
   "source": [
    "stacked_barplot(data, \"PreferredPropertyStar\", \"Gender\")"
   ]
  },
  {
   "cell_type": "markdown",
   "id": "ba1b24b0",
   "metadata": {},
   "source": [
    "We do not see major preference diffrence when it comes to property rating among male and female travellers"
   ]
  },
  {
   "cell_type": "code",
   "execution_count": 52,
   "id": "117aba89",
   "metadata": {},
   "outputs": [
    {
     "name": "stdout",
     "output_type": "stream",
     "text": [
      "Occupation             Free Lancer  Large Business  Salaried  Small Business  \\\n",
      "PreferredPropertyStar                                                          \n",
      "3.0                              2             254      1457            1192   \n",
      "All                              2             422      2277            2020   \n",
      "4.0                              0              88       379             411   \n",
      "5.0                              0              80       441             417   \n",
      "\n",
      "Occupation              All  \n",
      "PreferredPropertyStar        \n",
      "3.0                    2905  \n",
      "All                    4721  \n",
      "4.0                     878  \n",
      "5.0                     938  \n",
      "------------------------------------------------------------------------------------------------------------------------\n"
     ]
    },
    {
     "data": {
      "image/png": "[encoded data removed]",
      "text/plain": [
       "<Figure size 576x360 with 1 Axes>"
      ]
     },
     "metadata": {
      "needs_background": "light"
     },
     "output_type": "display_data"
    }
   ],
   "source": [
    "stacked_barplot(data, \"PreferredPropertyStar\", \"Occupation\")"
   ]
  },
  {
   "cell_type": "markdown",
   "id": "6bee4a2f",
   "metadata": {},
   "source": [
    "Few Observations from EDA"
   ]
  },
  {
   "cell_type": "code",
   "execution_count": null,
   "id": "a23dc73c",
   "metadata": {},
   "outputs": [],
   "source": [
    "* Property star rating preference do not have much diffrence between male,female customes\n",
    "* Executives prefer basic but VP's prefer King packages\n",
    "* Car ownership is not making much diffrence for product purchase\n",
    "* Salaried and Small business are major share of customers in the past"
   ]
  },
  {
   "cell_type": "markdown",
   "id": "e2a2cadc",
   "metadata": {},
   "source": [
    "# 4   Data Preparation, Missing Value and Outlier Treatment"
   ]
  },
  {
   "cell_type": "code",
   "execution_count": 53,
   "id": "21a6fa8b",
   "metadata": {},
   "outputs": [],
   "source": [
    "data['Age'].fillna(float(data['Age'].median()), inplace=True)"
   ]
  },
  {
   "cell_type": "code",
   "execution_count": 54,
   "id": "3797ac5a",
   "metadata": {},
   "outputs": [
    {
     "data": {
      "text/plain": [
       "array(['Company Invited', 'Self Enquiry', nan], dtype=object)"
      ]
     },
     "execution_count": 54,
     "metadata": {},
     "output_type": "execute_result"
    }
   ],
   "source": [
    "data['TypeofContact'].unique()"
   ]
  },
  {
   "cell_type": "code",
   "execution_count": 55,
   "id": "c950d5f8",
   "metadata": {},
   "outputs": [],
   "source": [
    "#Small number of type of contact and drop these records\n",
    "data.dropna(subset=[\"TypeofContact\"], inplace=True)"
   ]
  },
  {
   "cell_type": "code",
   "execution_count": 56,
   "id": "768caf86",
   "metadata": {},
   "outputs": [
    {
     "data": {
      "text/plain": [
       "array([ 11.,  16.,   9.,   6.,  20.,  14.,  15.,   8.,  nan,  10.,  28.,\n",
       "        12.,  31.,   7.,  21.,  27.,  17.,  29.,  32.,   5.,  13.,  18.,\n",
       "        24.,  25.,  22.,  19.,  26.,  23.,  33.,  30.,  34.,  36.,  35.,\n",
       "       127., 126.])"
      ]
     },
     "execution_count": 56,
     "metadata": {},
     "output_type": "execute_result"
    }
   ],
   "source": [
    "data['DurationOfPitch'].unique()"
   ]
  },
  {
   "cell_type": "markdown",
   "id": "5613fcae",
   "metadata": {},
   "source": [
    "Two records with duration 126 and 127 out of range and probably outliers. Drop both records"
   ]
  },
  {
   "cell_type": "code",
   "execution_count": 57,
   "id": "bda3aaf6",
   "metadata": {},
   "outputs": [],
   "source": [
    "data.drop(data[data.DurationOfPitch >=126.0].index, inplace=True)"
   ]
  },
  {
   "cell_type": "code",
   "execution_count": 58,
   "id": "7dd671e8",
   "metadata": {},
   "outputs": [],
   "source": [
    "data['DurationOfPitch'].fillna(int(data['DurationOfPitch'].mean()), inplace=True)"
   ]
  },
  {
   "cell_type": "code",
   "execution_count": 59,
   "id": "7ccbf729",
   "metadata": {},
   "outputs": [],
   "source": [
    "data['NumberOfFollowups'].fillna(int(data['NumberOfFollowups'].mean()), inplace=True)"
   ]
  },
  {
   "cell_type": "code",
   "execution_count": 60,
   "id": "25a2d809",
   "metadata": {},
   "outputs": [],
   "source": [
    "data['PreferredPropertyStar'].fillna(int(data['PreferredPropertyStar'].median()), inplace=True)"
   ]
  },
  {
   "cell_type": "code",
   "execution_count": 61,
   "id": "f828ca74",
   "metadata": {},
   "outputs": [],
   "source": [
    "data['NumberOfTrips'].fillna(int(data['NumberOfTrips'].mean()), inplace=True)"
   ]
  },
  {
   "cell_type": "code",
   "execution_count": 62,
   "id": "57ae5640",
   "metadata": {},
   "outputs": [],
   "source": [
    "data['NumberOfChildrenVisiting'].fillna(int(data['NumberOfChildrenVisiting'].median()), inplace=True)"
   ]
  },
  {
   "cell_type": "code",
   "execution_count": 63,
   "id": "4eed1ce4",
   "metadata": {},
   "outputs": [
    {
     "data": {
      "text/plain": [
       "(4720, 19)"
      ]
     },
     "execution_count": 63,
     "metadata": {},
     "output_type": "execute_result"
    }
   ],
   "source": [
    "data.shape"
   ]
  },
  {
   "cell_type": "code",
   "execution_count": 64,
   "id": "5d21f875",
   "metadata": {},
   "outputs": [],
   "source": [
    "data['MonthlyIncome'].fillna(data.groupby('Designation')['MonthlyIncome'].transform('median'),inplace=True)"
   ]
  },
  {
   "cell_type": "code",
   "execution_count": 65,
   "id": "a8044d91",
   "metadata": {},
   "outputs": [
    {
     "name": "stdout",
     "output_type": "stream",
     "text": [
      "<class 'pandas.core.frame.DataFrame'>\n",
      "Int64Index: 4720 entries, 1927 to 2435\n",
      "Data columns (total 19 columns):\n",
      " #   Column                    Non-Null Count  Dtype  \n",
      "---  ------                    --------------  -----  \n",
      " 0   ProdTaken                 4720 non-null   int64  \n",
      " 1   Age                       4720 non-null   float64\n",
      " 2   TypeofContact             4720 non-null   object \n",
      " 3   CityTier                  4720 non-null   int64  \n",
      " 4   DurationOfPitch           4720 non-null   float64\n",
      " 5   Occupation                4720 non-null   object \n",
      " 6   Gender                    4720 non-null   object \n",
      " 7   NumberOfPersonVisiting    4720 non-null   int64  \n",
      " 8   NumberOfFollowups         4720 non-null   float64\n",
      " 9   ProductPitched            4720 non-null   object \n",
      " 10  PreferredPropertyStar     4720 non-null   float64\n",
      " 11  MaritalStatus             4720 non-null   object \n",
      " 12  NumberOfTrips             4720 non-null   float64\n",
      " 13  Passport                  4720 non-null   int64  \n",
      " 14  PitchSatisfactionScore    4720 non-null   int64  \n",
      " 15  OwnCar                    4720 non-null   int64  \n",
      " 16  NumberOfChildrenVisiting  4720 non-null   float64\n",
      " 17  Designation               4720 non-null   object \n",
      " 18  MonthlyIncome             4720 non-null   float64\n",
      "dtypes: float64(7), int64(6), object(6)\n",
      "memory usage: 737.5+ KB\n"
     ]
    }
   ],
   "source": [
    "data.info()"
   ]
  },
  {
   "cell_type": "code",
   "execution_count": 66,
   "id": "20325c17",
   "metadata": {},
   "outputs": [
    {
     "data": {
      "text/plain": [
       "Index(['TypeofContact', 'Occupation', 'Gender', 'ProductPitched',\n",
       "       'MaritalStatus', 'Designation'],\n",
       "      dtype='object')"
      ]
     },
     "execution_count": 66,
     "metadata": {},
     "output_type": "execute_result"
    }
   ],
   "source": [
    "cols = data.select_dtypes(['object'])\n",
    "cols.columns"
   ]
  },
  {
   "cell_type": "code",
   "execution_count": 67,
   "id": "13339d6a",
   "metadata": {},
   "outputs": [],
   "source": [
    "for i in cols.columns:\n",
    "    data[i] = data[i].astype('category')"
   ]
  },
  {
   "cell_type": "code",
   "execution_count": 68,
   "id": "843cb814",
   "metadata": {},
   "outputs": [
    {
     "name": "stdout",
     "output_type": "stream",
     "text": [
      "<class 'pandas.core.frame.DataFrame'>\n",
      "Int64Index: 4720 entries, 1927 to 2435\n",
      "Data columns (total 19 columns):\n",
      " #   Column                    Non-Null Count  Dtype   \n",
      "---  ------                    --------------  -----   \n",
      " 0   ProdTaken                 4720 non-null   int64   \n",
      " 1   Age                       4720 non-null   float64 \n",
      " 2   TypeofContact             4720 non-null   category\n",
      " 3   CityTier                  4720 non-null   int64   \n",
      " 4   DurationOfPitch           4720 non-null   float64 \n",
      " 5   Occupation                4720 non-null   category\n",
      " 6   Gender                    4720 non-null   category\n",
      " 7   NumberOfPersonVisiting    4720 non-null   int64   \n",
      " 8   NumberOfFollowups         4720 non-null   float64 \n",
      " 9   ProductPitched            4720 non-null   category\n",
      " 10  PreferredPropertyStar     4720 non-null   float64 \n",
      " 11  MaritalStatus             4720 non-null   category\n",
      " 12  NumberOfTrips             4720 non-null   float64 \n",
      " 13  Passport                  4720 non-null   int64   \n",
      " 14  PitchSatisfactionScore    4720 non-null   int64   \n",
      " 15  OwnCar                    4720 non-null   int64   \n",
      " 16  NumberOfChildrenVisiting  4720 non-null   float64 \n",
      " 17  Designation               4720 non-null   category\n",
      " 18  MonthlyIncome             4720 non-null   float64 \n",
      "dtypes: category(6), float64(7), int64(6)\n",
      "memory usage: 545.0 KB\n"
     ]
    }
   ],
   "source": [
    "data.info()"
   ]
  },
  {
   "cell_type": "code",
   "execution_count": 69,
   "id": "eff3f5a6",
   "metadata": {},
   "outputs": [
    {
     "data": {
      "text/html": [
       "<div>\n",
       "<style scoped>\n",
       "    .dataframe tbody tr th:only-of-type {\n",
       "        vertical-align: middle;\n",
       "    }\n",
       "\n",
       "    .dataframe tbody tr th {\n",
       "        vertical-align: top;\n",
       "    }\n",
       "\n",
       "    .dataframe thead th {\n",
       "        text-align: right;\n",
       "    }\n",
       "</style>\n",
       "<table border=\"1\" class=\"dataframe\">\n",
       "  <thead>\n",
       "    <tr style=\"text-align: right;\">\n",
       "      <th></th>\n",
       "      <th>count</th>\n",
       "      <th>mean</th>\n",
       "      <th>std</th>\n",
       "      <th>min</th>\n",
       "      <th>25%</th>\n",
       "      <th>50%</th>\n",
       "      <th>75%</th>\n",
       "      <th>max</th>\n",
       "    </tr>\n",
       "  </thead>\n",
       "  <tbody>\n",
       "    <tr>\n",
       "      <th>ProdTaken</th>\n",
       "      <td>4720.0</td>\n",
       "      <td>0.188771</td>\n",
       "      <td>0.391368</td>\n",
       "      <td>0.0</td>\n",
       "      <td>0.0</td>\n",
       "      <td>0.0</td>\n",
       "      <td>0.00</td>\n",
       "      <td>1.0</td>\n",
       "    </tr>\n",
       "    <tr>\n",
       "      <th>Age</th>\n",
       "      <td>4720.0</td>\n",
       "      <td>37.549788</td>\n",
       "      <td>9.119283</td>\n",
       "      <td>18.0</td>\n",
       "      <td>31.0</td>\n",
       "      <td>36.0</td>\n",
       "      <td>43.00</td>\n",
       "      <td>61.0</td>\n",
       "    </tr>\n",
       "    <tr>\n",
       "      <th>CityTier</th>\n",
       "      <td>4720.0</td>\n",
       "      <td>1.654661</td>\n",
       "      <td>0.917109</td>\n",
       "      <td>1.0</td>\n",
       "      <td>1.0</td>\n",
       "      <td>1.0</td>\n",
       "      <td>3.00</td>\n",
       "      <td>3.0</td>\n",
       "    </tr>\n",
       "    <tr>\n",
       "      <th>DurationOfPitch</th>\n",
       "      <td>4720.0</td>\n",
       "      <td>15.440042</td>\n",
       "      <td>8.016367</td>\n",
       "      <td>5.0</td>\n",
       "      <td>9.0</td>\n",
       "      <td>14.0</td>\n",
       "      <td>19.00</td>\n",
       "      <td>36.0</td>\n",
       "    </tr>\n",
       "    <tr>\n",
       "      <th>NumberOfPersonVisiting</th>\n",
       "      <td>4720.0</td>\n",
       "      <td>2.915042</td>\n",
       "      <td>0.723904</td>\n",
       "      <td>1.0</td>\n",
       "      <td>2.0</td>\n",
       "      <td>3.0</td>\n",
       "      <td>3.00</td>\n",
       "      <td>5.0</td>\n",
       "    </tr>\n",
       "    <tr>\n",
       "      <th>NumberOfFollowups</th>\n",
       "      <td>4720.0</td>\n",
       "      <td>3.700847</td>\n",
       "      <td>1.004714</td>\n",
       "      <td>1.0</td>\n",
       "      <td>3.0</td>\n",
       "      <td>4.0</td>\n",
       "      <td>4.00</td>\n",
       "      <td>6.0</td>\n",
       "    </tr>\n",
       "    <tr>\n",
       "      <th>PreferredPropertyStar</th>\n",
       "      <td>4720.0</td>\n",
       "      <td>3.581144</td>\n",
       "      <td>0.799306</td>\n",
       "      <td>3.0</td>\n",
       "      <td>3.0</td>\n",
       "      <td>3.0</td>\n",
       "      <td>4.00</td>\n",
       "      <td>5.0</td>\n",
       "    </tr>\n",
       "    <tr>\n",
       "      <th>NumberOfTrips</th>\n",
       "      <td>4720.0</td>\n",
       "      <td>3.227966</td>\n",
       "      <td>1.821367</td>\n",
       "      <td>1.0</td>\n",
       "      <td>2.0</td>\n",
       "      <td>3.0</td>\n",
       "      <td>4.00</td>\n",
       "      <td>22.0</td>\n",
       "    </tr>\n",
       "    <tr>\n",
       "      <th>Passport</th>\n",
       "      <td>4720.0</td>\n",
       "      <td>0.291314</td>\n",
       "      <td>0.454416</td>\n",
       "      <td>0.0</td>\n",
       "      <td>0.0</td>\n",
       "      <td>0.0</td>\n",
       "      <td>1.00</td>\n",
       "      <td>1.0</td>\n",
       "    </tr>\n",
       "    <tr>\n",
       "      <th>PitchSatisfactionScore</th>\n",
       "      <td>4720.0</td>\n",
       "      <td>3.053814</td>\n",
       "      <td>1.369941</td>\n",
       "      <td>1.0</td>\n",
       "      <td>2.0</td>\n",
       "      <td>3.0</td>\n",
       "      <td>4.00</td>\n",
       "      <td>5.0</td>\n",
       "    </tr>\n",
       "    <tr>\n",
       "      <th>OwnCar</th>\n",
       "      <td>4720.0</td>\n",
       "      <td>0.617797</td>\n",
       "      <td>0.485977</td>\n",
       "      <td>0.0</td>\n",
       "      <td>0.0</td>\n",
       "      <td>1.0</td>\n",
       "      <td>1.00</td>\n",
       "      <td>1.0</td>\n",
       "    </tr>\n",
       "    <tr>\n",
       "      <th>NumberOfChildrenVisiting</th>\n",
       "      <td>4720.0</td>\n",
       "      <td>1.194068</td>\n",
       "      <td>0.855313</td>\n",
       "      <td>0.0</td>\n",
       "      <td>1.0</td>\n",
       "      <td>1.0</td>\n",
       "      <td>2.00</td>\n",
       "      <td>3.0</td>\n",
       "    </tr>\n",
       "    <tr>\n",
       "      <th>MonthlyIncome</th>\n",
       "      <td>4720.0</td>\n",
       "      <td>23541.299153</td>\n",
       "      <td>5284.386335</td>\n",
       "      <td>1000.0</td>\n",
       "      <td>20469.5</td>\n",
       "      <td>22386.0</td>\n",
       "      <td>25415.25</td>\n",
       "      <td>98678.0</td>\n",
       "    </tr>\n",
       "  </tbody>\n",
       "</table>\n",
       "</div>"
      ],
      "text/plain": [
       "                           count          mean          std     min      25%  \\\n",
       "ProdTaken                 4720.0      0.188771     0.391368     0.0      0.0   \n",
       "Age                       4720.0     37.549788     9.119283    18.0     31.0   \n",
       "CityTier                  4720.0      1.654661     0.917109     1.0      1.0   \n",
       "DurationOfPitch           4720.0     15.440042     8.016367     5.0      9.0   \n",
       "NumberOfPersonVisiting    4720.0      2.915042     0.723904     1.0      2.0   \n",
       "NumberOfFollowups         4720.0      3.700847     1.004714     1.0      3.0   \n",
       "PreferredPropertyStar     4720.0      3.581144     0.799306     3.0      3.0   \n",
       "NumberOfTrips             4720.0      3.227966     1.821367     1.0      2.0   \n",
       "Passport                  4720.0      0.291314     0.454416     0.0      0.0   \n",
       "PitchSatisfactionScore    4720.0      3.053814     1.369941     1.0      2.0   \n",
       "OwnCar                    4720.0      0.617797     0.485977     0.0      0.0   \n",
       "NumberOfChildrenVisiting  4720.0      1.194068     0.855313     0.0      1.0   \n",
       "MonthlyIncome             4720.0  23541.299153  5284.386335  1000.0  20469.5   \n",
       "\n",
       "                              50%       75%      max  \n",
       "ProdTaken                     0.0      0.00      1.0  \n",
       "Age                          36.0     43.00     61.0  \n",
       "CityTier                      1.0      3.00      3.0  \n",
       "DurationOfPitch              14.0     19.00     36.0  \n",
       "NumberOfPersonVisiting        3.0      3.00      5.0  \n",
       "NumberOfFollowups             4.0      4.00      6.0  \n",
       "PreferredPropertyStar         3.0      4.00      5.0  \n",
       "NumberOfTrips                 3.0      4.00     22.0  \n",
       "Passport                      0.0      1.00      1.0  \n",
       "PitchSatisfactionScore        3.0      4.00      5.0  \n",
       "OwnCar                        1.0      1.00      1.0  \n",
       "NumberOfChildrenVisiting      1.0      2.00      3.0  \n",
       "MonthlyIncome             22386.0  25415.25  98678.0  "
      ]
     },
     "execution_count": 69,
     "metadata": {},
     "output_type": "execute_result"
    }
   ],
   "source": [
    "data.describe().T"
   ]
  },
  {
   "cell_type": "code",
   "execution_count": 70,
   "id": "7ee2210a",
   "metadata": {},
   "outputs": [
    {
     "data": {
      "text/html": [
       "<div>\n",
       "<style scoped>\n",
       "    .dataframe tbody tr th:only-of-type {\n",
       "        vertical-align: middle;\n",
       "    }\n",
       "\n",
       "    .dataframe tbody tr th {\n",
       "        vertical-align: top;\n",
       "    }\n",
       "\n",
       "    .dataframe thead th {\n",
       "        text-align: right;\n",
       "    }\n",
       "</style>\n",
       "<table border=\"1\" class=\"dataframe\">\n",
       "  <thead>\n",
       "    <tr style=\"text-align: right;\">\n",
       "      <th></th>\n",
       "      <th>count</th>\n",
       "      <th>unique</th>\n",
       "      <th>top</th>\n",
       "      <th>freq</th>\n",
       "    </tr>\n",
       "  </thead>\n",
       "  <tbody>\n",
       "    <tr>\n",
       "      <th>TypeofContact</th>\n",
       "      <td>4720</td>\n",
       "      <td>2</td>\n",
       "      <td>Self Enquiry</td>\n",
       "      <td>3350</td>\n",
       "    </tr>\n",
       "    <tr>\n",
       "      <th>Occupation</th>\n",
       "      <td>4720</td>\n",
       "      <td>4</td>\n",
       "      <td>Salaried</td>\n",
       "      <td>2286</td>\n",
       "    </tr>\n",
       "    <tr>\n",
       "      <th>Gender</th>\n",
       "      <td>4720</td>\n",
       "      <td>2</td>\n",
       "      <td>Male</td>\n",
       "      <td>2818</td>\n",
       "    </tr>\n",
       "    <tr>\n",
       "      <th>ProductPitched</th>\n",
       "      <td>4720</td>\n",
       "      <td>5</td>\n",
       "      <td>Basic</td>\n",
       "      <td>1788</td>\n",
       "    </tr>\n",
       "    <tr>\n",
       "      <th>MaritalStatus</th>\n",
       "      <td>4720</td>\n",
       "      <td>4</td>\n",
       "      <td>Married</td>\n",
       "      <td>2262</td>\n",
       "    </tr>\n",
       "    <tr>\n",
       "      <th>Designation</th>\n",
       "      <td>4720</td>\n",
       "      <td>5</td>\n",
       "      <td>Executive</td>\n",
       "      <td>1788</td>\n",
       "    </tr>\n",
       "  </tbody>\n",
       "</table>\n",
       "</div>"
      ],
      "text/plain": [
       "               count unique           top  freq\n",
       "TypeofContact   4720      2  Self Enquiry  3350\n",
       "Occupation      4720      4      Salaried  2286\n",
       "Gender          4720      2          Male  2818\n",
       "ProductPitched  4720      5         Basic  1788\n",
       "MaritalStatus   4720      4       Married  2262\n",
       "Designation     4720      5     Executive  1788"
      ]
     },
     "execution_count": 70,
     "metadata": {},
     "output_type": "execute_result"
    }
   ],
   "source": [
    "data.describe(include=['category']).T"
   ]
  },
  {
   "cell_type": "code",
   "execution_count": 71,
   "id": "5ce4846a",
   "metadata": {},
   "outputs": [],
   "source": [
    "cols_cat= data.select_dtypes(['category'])"
   ]
  },
  {
   "cell_type": "code",
   "execution_count": 72,
   "id": "029f57ab",
   "metadata": {},
   "outputs": [
    {
     "name": "stdout",
     "output_type": "stream",
     "text": [
      "Unique values in TypeofContact are :\n",
      "Self Enquiry       3350\n",
      "Company Invited    1370\n",
      "Name: TypeofContact, dtype: int64\n",
      "**************************************************\n",
      "Unique values in Occupation are :\n",
      "Salaried          2286\n",
      "Small Business    2008\n",
      "Large Business     424\n",
      "Free Lancer          2\n",
      "Name: Occupation, dtype: int64\n",
      "**************************************************\n",
      "Unique values in Gender are :\n",
      "Male      2818\n",
      "Female    1902\n",
      "Name: Gender, dtype: int64\n",
      "**************************************************\n",
      "Unique values in ProductPitched are :\n",
      "Basic           1788\n",
      "Deluxe          1669\n",
      "Standard         714\n",
      "Super Deluxe     324\n",
      "King             225\n",
      "Name: ProductPitched, dtype: int64\n",
      "**************************************************\n",
      "Unique values in MaritalStatus are :\n",
      "Married      2262\n",
      "Divorced      944\n",
      "Single        871\n",
      "Unmarried     643\n",
      "Name: MaritalStatus, dtype: int64\n",
      "**************************************************\n",
      "Unique values in Designation are :\n",
      "Executive         1788\n",
      "Manager           1669\n",
      "Senior Manager     714\n",
      "AVP                324\n",
      "VP                 225\n",
      "Name: Designation, dtype: int64\n",
      "**************************************************\n"
     ]
    }
   ],
   "source": [
    "for i in cols_cat.columns:\n",
    "    print('Unique values in',i, 'are :')\n",
    "    print(cols_cat[i].value_counts())\n",
    "    print('*'*50)"
   ]
  },
  {
   "cell_type": "code",
   "execution_count": 73,
   "id": "4af0d4de",
   "metadata": {},
   "outputs": [
    {
     "data": {
      "image/png": "[encoded data removed]",
      "text/plain": [
       "<Figure size 1440x2160 with 13 Axes>"
      ]
     },
     "metadata": {
      "needs_background": "light"
     },
     "output_type": "display_data"
    }
   ],
   "source": [
    "#Identify outliers\n",
    "numerical_col = data.select_dtypes(include=np.number).columns.tolist()\n",
    "plt.figure(figsize=(20, 30))\n",
    "\n",
    "for i, variable in enumerate(numerical_col):\n",
    "    plt.subplot(5, 4, i + 1)\n",
    "    plt.boxplot(data[variable], whis=1.5)\n",
    "    plt.tight_layout()\n",
    "    plt.title(variable)\n",
    "\n",
    "plt.show()"
   ]
  },
  {
   "cell_type": "code",
   "execution_count": 75,
   "id": "c4f8b36f",
   "metadata": {},
   "outputs": [],
   "source": [
    "replaceStruct = {\n",
    "                \"TypeofContact\":{\"Self Enquiry\": 1, \"Company Invited\": 2 },\n",
    "                \"Gender\":{\"Male\": 1, \"Female\": 2 },\n",
    "                \"MaritalStatus\":     {\"Married\": 1, \"Divorced\": 2 ,\"Single\": 3 ,\"Unmarried\":4},\n",
    "                \"Designation\": {\"Executive\": 1, \"Manager\":2 , \"Senior Manager\": 3, \"AVP\": 4,\"VP\": 5}\n",
    "                    }"
   ]
  },
  {
   "cell_type": "code",
   "execution_count": 76,
   "id": "43801c4e",
   "metadata": {},
   "outputs": [],
   "source": [
    "oneHotCols=[\"Occupation\",\"ProductPitched\"]"
   ]
  },
  {
   "cell_type": "code",
   "execution_count": 77,
   "id": "c7f72c9e",
   "metadata": {
    "scrolled": true
   },
   "outputs": [
    {
     "data": {
      "text/html": [
       "<div>\n",
       "<style scoped>\n",
       "    .dataframe tbody tr th:only-of-type {\n",
       "        vertical-align: middle;\n",
       "    }\n",
       "\n",
       "    .dataframe tbody tr th {\n",
       "        vertical-align: top;\n",
       "    }\n",
       "\n",
       "    .dataframe thead th {\n",
       "        text-align: right;\n",
       "    }\n",
       "</style>\n",
       "<table border=\"1\" class=\"dataframe\">\n",
       "  <thead>\n",
       "    <tr style=\"text-align: right;\">\n",
       "      <th></th>\n",
       "      <th>ProdTaken</th>\n",
       "      <th>Age</th>\n",
       "      <th>TypeofContact</th>\n",
       "      <th>CityTier</th>\n",
       "      <th>DurationOfPitch</th>\n",
       "      <th>Gender</th>\n",
       "      <th>NumberOfPersonVisiting</th>\n",
       "      <th>NumberOfFollowups</th>\n",
       "      <th>PreferredPropertyStar</th>\n",
       "      <th>MaritalStatus</th>\n",
       "      <th>...</th>\n",
       "      <th>MonthlyIncome</th>\n",
       "      <th>Occupation_Free Lancer</th>\n",
       "      <th>Occupation_Large Business</th>\n",
       "      <th>Occupation_Salaried</th>\n",
       "      <th>Occupation_Small Business</th>\n",
       "      <th>ProductPitched_Basic</th>\n",
       "      <th>ProductPitched_Deluxe</th>\n",
       "      <th>ProductPitched_King</th>\n",
       "      <th>ProductPitched_Standard</th>\n",
       "      <th>ProductPitched_Super Deluxe</th>\n",
       "    </tr>\n",
       "  </thead>\n",
       "  <tbody>\n",
       "    <tr>\n",
       "      <th>1927</th>\n",
       "      <td>1</td>\n",
       "      <td>18.0</td>\n",
       "      <td>2</td>\n",
       "      <td>3</td>\n",
       "      <td>11.0</td>\n",
       "      <td>1</td>\n",
       "      <td>3</td>\n",
       "      <td>3.0</td>\n",
       "      <td>4.0</td>\n",
       "      <td>3</td>\n",
       "      <td>...</td>\n",
       "      <td>16878.0</td>\n",
       "      <td>0</td>\n",
       "      <td>0</td>\n",
       "      <td>0</td>\n",
       "      <td>1</td>\n",
       "      <td>1</td>\n",
       "      <td>0</td>\n",
       "      <td>0</td>\n",
       "      <td>0</td>\n",
       "      <td>0</td>\n",
       "    </tr>\n",
       "    <tr>\n",
       "      <th>457</th>\n",
       "      <td>1</td>\n",
       "      <td>18.0</td>\n",
       "      <td>2</td>\n",
       "      <td>3</td>\n",
       "      <td>11.0</td>\n",
       "      <td>1</td>\n",
       "      <td>3</td>\n",
       "      <td>3.0</td>\n",
       "      <td>4.0</td>\n",
       "      <td>3</td>\n",
       "      <td>...</td>\n",
       "      <td>16878.0</td>\n",
       "      <td>0</td>\n",
       "      <td>0</td>\n",
       "      <td>0</td>\n",
       "      <td>1</td>\n",
       "      <td>1</td>\n",
       "      <td>0</td>\n",
       "      <td>0</td>\n",
       "      <td>0</td>\n",
       "      <td>0</td>\n",
       "    </tr>\n",
       "    <tr>\n",
       "      <th>301</th>\n",
       "      <td>0</td>\n",
       "      <td>18.0</td>\n",
       "      <td>1</td>\n",
       "      <td>3</td>\n",
       "      <td>16.0</td>\n",
       "      <td>2</td>\n",
       "      <td>3</td>\n",
       "      <td>4.0</td>\n",
       "      <td>3.0</td>\n",
       "      <td>3</td>\n",
       "      <td>...</td>\n",
       "      <td>16200.0</td>\n",
       "      <td>0</td>\n",
       "      <td>0</td>\n",
       "      <td>0</td>\n",
       "      <td>1</td>\n",
       "      <td>1</td>\n",
       "      <td>0</td>\n",
       "      <td>0</td>\n",
       "      <td>0</td>\n",
       "      <td>0</td>\n",
       "    </tr>\n",
       "    <tr>\n",
       "      <th>1766</th>\n",
       "      <td>1</td>\n",
       "      <td>18.0</td>\n",
       "      <td>1</td>\n",
       "      <td>1</td>\n",
       "      <td>9.0</td>\n",
       "      <td>1</td>\n",
       "      <td>2</td>\n",
       "      <td>3.0</td>\n",
       "      <td>3.0</td>\n",
       "      <td>3</td>\n",
       "      <td>...</td>\n",
       "      <td>16420.0</td>\n",
       "      <td>0</td>\n",
       "      <td>0</td>\n",
       "      <td>0</td>\n",
       "      <td>1</td>\n",
       "      <td>1</td>\n",
       "      <td>0</td>\n",
       "      <td>0</td>\n",
       "      <td>0</td>\n",
       "      <td>0</td>\n",
       "    </tr>\n",
       "    <tr>\n",
       "      <th>296</th>\n",
       "      <td>1</td>\n",
       "      <td>18.0</td>\n",
       "      <td>1</td>\n",
       "      <td>1</td>\n",
       "      <td>9.0</td>\n",
       "      <td>1</td>\n",
       "      <td>2</td>\n",
       "      <td>3.0</td>\n",
       "      <td>3.0</td>\n",
       "      <td>3</td>\n",
       "      <td>...</td>\n",
       "      <td>16420.0</td>\n",
       "      <td>0</td>\n",
       "      <td>0</td>\n",
       "      <td>1</td>\n",
       "      <td>0</td>\n",
       "      <td>1</td>\n",
       "      <td>0</td>\n",
       "      <td>0</td>\n",
       "      <td>0</td>\n",
       "      <td>0</td>\n",
       "    </tr>\n",
       "    <tr>\n",
       "      <th>972</th>\n",
       "      <td>0</td>\n",
       "      <td>18.0</td>\n",
       "      <td>2</td>\n",
       "      <td>1</td>\n",
       "      <td>6.0</td>\n",
       "      <td>2</td>\n",
       "      <td>3</td>\n",
       "      <td>3.0</td>\n",
       "      <td>3.0</td>\n",
       "      <td>3</td>\n",
       "      <td>...</td>\n",
       "      <td>16611.0</td>\n",
       "      <td>0</td>\n",
       "      <td>0</td>\n",
       "      <td>1</td>\n",
       "      <td>0</td>\n",
       "      <td>1</td>\n",
       "      <td>0</td>\n",
       "      <td>0</td>\n",
       "      <td>0</td>\n",
       "      <td>0</td>\n",
       "    </tr>\n",
       "    <tr>\n",
       "      <th>2197</th>\n",
       "      <td>0</td>\n",
       "      <td>18.0</td>\n",
       "      <td>2</td>\n",
       "      <td>1</td>\n",
       "      <td>11.0</td>\n",
       "      <td>1</td>\n",
       "      <td>3</td>\n",
       "      <td>3.0</td>\n",
       "      <td>3.0</td>\n",
       "      <td>3</td>\n",
       "      <td>...</td>\n",
       "      <td>16051.0</td>\n",
       "      <td>0</td>\n",
       "      <td>0</td>\n",
       "      <td>1</td>\n",
       "      <td>0</td>\n",
       "      <td>1</td>\n",
       "      <td>0</td>\n",
       "      <td>0</td>\n",
       "      <td>0</td>\n",
       "      <td>0</td>\n",
       "    </tr>\n",
       "    <tr>\n",
       "      <th>1311</th>\n",
       "      <td>0</td>\n",
       "      <td>18.0</td>\n",
       "      <td>2</td>\n",
       "      <td>1</td>\n",
       "      <td>20.0</td>\n",
       "      <td>2</td>\n",
       "      <td>2</td>\n",
       "      <td>3.0</td>\n",
       "      <td>3.0</td>\n",
       "      <td>3</td>\n",
       "      <td>...</td>\n",
       "      <td>16514.0</td>\n",
       "      <td>0</td>\n",
       "      <td>0</td>\n",
       "      <td>0</td>\n",
       "      <td>1</td>\n",
       "      <td>1</td>\n",
       "      <td>0</td>\n",
       "      <td>0</td>\n",
       "      <td>0</td>\n",
       "      <td>0</td>\n",
       "    </tr>\n",
       "    <tr>\n",
       "      <th>828</th>\n",
       "      <td>1</td>\n",
       "      <td>18.0</td>\n",
       "      <td>2</td>\n",
       "      <td>1</td>\n",
       "      <td>14.0</td>\n",
       "      <td>1</td>\n",
       "      <td>3</td>\n",
       "      <td>3.0</td>\n",
       "      <td>3.0</td>\n",
       "      <td>3</td>\n",
       "      <td>...</td>\n",
       "      <td>16904.0</td>\n",
       "      <td>0</td>\n",
       "      <td>0</td>\n",
       "      <td>0</td>\n",
       "      <td>1</td>\n",
       "      <td>1</td>\n",
       "      <td>0</td>\n",
       "      <td>0</td>\n",
       "      <td>0</td>\n",
       "      <td>0</td>\n",
       "    </tr>\n",
       "    <tr>\n",
       "      <th>727</th>\n",
       "      <td>0</td>\n",
       "      <td>18.0</td>\n",
       "      <td>2</td>\n",
       "      <td>1</td>\n",
       "      <td>11.0</td>\n",
       "      <td>1</td>\n",
       "      <td>3</td>\n",
       "      <td>3.0</td>\n",
       "      <td>3.0</td>\n",
       "      <td>3</td>\n",
       "      <td>...</td>\n",
       "      <td>16051.0</td>\n",
       "      <td>0</td>\n",
       "      <td>0</td>\n",
       "      <td>1</td>\n",
       "      <td>0</td>\n",
       "      <td>1</td>\n",
       "      <td>0</td>\n",
       "      <td>0</td>\n",
       "      <td>0</td>\n",
       "      <td>0</td>\n",
       "    </tr>\n",
       "  </tbody>\n",
       "</table>\n",
       "<p>10 rows × 26 columns</p>\n",
       "</div>"
      ],
      "text/plain": [
       "      ProdTaken   Age  TypeofContact  CityTier  DurationOfPitch  Gender  \\\n",
       "1927          1  18.0              2         3             11.0       1   \n",
       "457           1  18.0              2         3             11.0       1   \n",
       "301           0  18.0              1         3             16.0       2   \n",
       "1766          1  18.0              1         1              9.0       1   \n",
       "296           1  18.0              1         1              9.0       1   \n",
       "972           0  18.0              2         1              6.0       2   \n",
       "2197          0  18.0              2         1             11.0       1   \n",
       "1311          0  18.0              2         1             20.0       2   \n",
       "828           1  18.0              2         1             14.0       1   \n",
       "727           0  18.0              2         1             11.0       1   \n",
       "\n",
       "      NumberOfPersonVisiting  NumberOfFollowups  PreferredPropertyStar  \\\n",
       "1927                       3                3.0                    4.0   \n",
       "457                        3                3.0                    4.0   \n",
       "301                        3                4.0                    3.0   \n",
       "1766                       2                3.0                    3.0   \n",
       "296                        2                3.0                    3.0   \n",
       "972                        3                3.0                    3.0   \n",
       "2197                       3                3.0                    3.0   \n",
       "1311                       2                3.0                    3.0   \n",
       "828                        3                3.0                    3.0   \n",
       "727                        3                3.0                    3.0   \n",
       "\n",
       "      MaritalStatus  ...  MonthlyIncome  Occupation_Free Lancer  \\\n",
       "1927              3  ...        16878.0                       0   \n",
       "457               3  ...        16878.0                       0   \n",
       "301               3  ...        16200.0                       0   \n",
       "1766              3  ...        16420.0                       0   \n",
       "296               3  ...        16420.0                       0   \n",
       "972               3  ...        16611.0                       0   \n",
       "2197              3  ...        16051.0                       0   \n",
       "1311              3  ...        16514.0                       0   \n",
       "828               3  ...        16904.0                       0   \n",
       "727               3  ...        16051.0                       0   \n",
       "\n",
       "      Occupation_Large Business  Occupation_Salaried  \\\n",
       "1927                          0                    0   \n",
       "457                           0                    0   \n",
       "301                           0                    0   \n",
       "1766                          0                    0   \n",
       "296                           0                    1   \n",
       "972                           0                    1   \n",
       "2197                          0                    1   \n",
       "1311                          0                    0   \n",
       "828                           0                    0   \n",
       "727                           0                    1   \n",
       "\n",
       "      Occupation_Small Business  ProductPitched_Basic  ProductPitched_Deluxe  \\\n",
       "1927                          1                     1                      0   \n",
       "457                           1                     1                      0   \n",
       "301                           1                     1                      0   \n",
       "1766                          1                     1                      0   \n",
       "296                           0                     1                      0   \n",
       "972                           0                     1                      0   \n",
       "2197                          0                     1                      0   \n",
       "1311                          1                     1                      0   \n",
       "828                           1                     1                      0   \n",
       "727                           0                     1                      0   \n",
       "\n",
       "      ProductPitched_King  ProductPitched_Standard  \\\n",
       "1927                    0                        0   \n",
       "457                     0                        0   \n",
       "301                     0                        0   \n",
       "1766                    0                        0   \n",
       "296                     0                        0   \n",
       "972                     0                        0   \n",
       "2197                    0                        0   \n",
       "1311                    0                        0   \n",
       "828                     0                        0   \n",
       "727                     0                        0   \n",
       "\n",
       "      ProductPitched_Super Deluxe  \n",
       "1927                            0  \n",
       "457                             0  \n",
       "301                             0  \n",
       "1766                            0  \n",
       "296                             0  \n",
       "972                             0  \n",
       "2197                            0  \n",
       "1311                            0  \n",
       "828                             0  \n",
       "727                             0  \n",
       "\n",
       "[10 rows x 26 columns]"
      ]
     },
     "execution_count": 77,
     "metadata": {},
     "output_type": "execute_result"
    }
   ],
   "source": [
    "data=data.replace(replaceStruct)\n",
    "data=pd.get_dummies(data, columns=oneHotCols)\n",
    "data.head(10)"
   ]
  },
  {
   "cell_type": "code",
   "execution_count": 78,
   "id": "54bd7e74",
   "metadata": {},
   "outputs": [
    {
     "name": "stdout",
     "output_type": "stream",
     "text": [
      "<class 'pandas.core.frame.DataFrame'>\n",
      "Int64Index: 4720 entries, 1927 to 2435\n",
      "Data columns (total 26 columns):\n",
      " #   Column                       Non-Null Count  Dtype  \n",
      "---  ------                       --------------  -----  \n",
      " 0   ProdTaken                    4720 non-null   int64  \n",
      " 1   Age                          4720 non-null   float64\n",
      " 2   TypeofContact                4720 non-null   int64  \n",
      " 3   CityTier                     4720 non-null   int64  \n",
      " 4   DurationOfPitch              4720 non-null   float64\n",
      " 5   Gender                       4720 non-null   int64  \n",
      " 6   NumberOfPersonVisiting       4720 non-null   int64  \n",
      " 7   NumberOfFollowups            4720 non-null   float64\n",
      " 8   PreferredPropertyStar        4720 non-null   float64\n",
      " 9   MaritalStatus                4720 non-null   int64  \n",
      " 10  NumberOfTrips                4720 non-null   float64\n",
      " 11  Passport                     4720 non-null   int64  \n",
      " 12  PitchSatisfactionScore       4720 non-null   int64  \n",
      " 13  OwnCar                       4720 non-null   int64  \n",
      " 14  NumberOfChildrenVisiting     4720 non-null   float64\n",
      " 15  Designation                  4720 non-null   int64  \n",
      " 16  MonthlyIncome                4720 non-null   float64\n",
      " 17  Occupation_Free Lancer       4720 non-null   uint8  \n",
      " 18  Occupation_Large Business    4720 non-null   uint8  \n",
      " 19  Occupation_Salaried          4720 non-null   uint8  \n",
      " 20  Occupation_Small Business    4720 non-null   uint8  \n",
      " 21  ProductPitched_Basic         4720 non-null   uint8  \n",
      " 22  ProductPitched_Deluxe        4720 non-null   uint8  \n",
      " 23  ProductPitched_King          4720 non-null   uint8  \n",
      " 24  ProductPitched_Standard      4720 non-null   uint8  \n",
      " 25  ProductPitched_Super Deluxe  4720 non-null   uint8  \n",
      "dtypes: float64(7), int64(10), uint8(9)\n",
      "memory usage: 705.2 KB\n"
     ]
    }
   ],
   "source": [
    "data.info()"
   ]
  },
  {
   "cell_type": "markdown",
   "id": "6498c8a9",
   "metadata": {},
   "source": [
    "# 5   Split the data into train and test sets"
   ]
  },
  {
   "cell_type": "code",
   "execution_count": 79,
   "id": "9fbdcec7",
   "metadata": {},
   "outputs": [],
   "source": [
    "X = data.drop('ProdTaken',axis=1)\n",
    "y = data['ProdTaken'] "
   ]
  },
  {
   "cell_type": "code",
   "execution_count": 80,
   "id": "63f213c7",
   "metadata": {},
   "outputs": [
    {
     "name": "stdout",
     "output_type": "stream",
     "text": [
      "(3304, 25) (1416, 25)\n"
     ]
    }
   ],
   "source": [
    "# Splitting data into training and test set:\n",
    "X_train, X_test, y_train, y_test = train_test_split(X, y, test_size=0.3, random_state=1,stratify=y)\n",
    "print(X_train.shape, X_test.shape)"
   ]
  },
  {
   "cell_type": "code",
   "execution_count": 81,
   "id": "a6699105",
   "metadata": {},
   "outputs": [
    {
     "data": {
      "text/plain": [
       "0    0.811229\n",
       "1    0.188771\n",
       "Name: ProdTaken, dtype: float64"
      ]
     },
     "execution_count": 81,
     "metadata": {},
     "output_type": "execute_result"
    }
   ],
   "source": [
    "y.value_counts(1)"
   ]
  },
  {
   "cell_type": "code",
   "execution_count": 82,
   "id": "7d5380d9",
   "metadata": {},
   "outputs": [
    {
     "data": {
      "text/plain": [
       "0    0.811441\n",
       "1    0.188559\n",
       "Name: ProdTaken, dtype: float64"
      ]
     },
     "execution_count": 82,
     "metadata": {},
     "output_type": "execute_result"
    }
   ],
   "source": [
    "y_test.value_counts(1)"
   ]
  },
  {
   "cell_type": "markdown",
   "id": "8b038623",
   "metadata": {},
   "source": [
    "# Model evaluation criterion\n",
    "\n",
    "Predicting a customer who was going to purchase a travel package as a customer who won't purchase is a revenue loss. Model prediction should help reduce False Negatives. In this case recall should be maximized, greater the recall higher the chances of minimizing the false negatives."
   ]
  },
  {
   "cell_type": "code",
   "execution_count": 83,
   "id": "b7d4801f",
   "metadata": {},
   "outputs": [],
   "source": [
    "def confusion_matrix_sklearn(model, predictors, target):\n",
    "    \"\"\"\n",
    "    To plot the confusion_matrix with percentages\n",
    "\n",
    "    model: classifier\n",
    "    predictors: independent variables\n",
    "    target: dependent variable\n",
    "    \"\"\"\n",
    "    y_pred = model.predict(predictors)\n",
    "    cm = confusion_matrix(target, y_pred)\n",
    "    labels = np.asarray(\n",
    "        [\n",
    "            [\"{0:0.0f}\".format(item) + \"\\n{0:.2%}\".format(item / cm.flatten().sum())]\n",
    "            for item in cm.flatten()\n",
    "        ]\n",
    "    ).reshape(2, 2)\n",
    "\n",
    "    plt.figure(figsize=(6, 4))\n",
    "    sns.heatmap(cm, annot=labels, fmt=\"\")\n",
    "    plt.ylabel(\"True label\")\n",
    "    plt.xlabel(\"Predicted label\")"
   ]
  },
  {
   "cell_type": "code",
   "execution_count": 84,
   "id": "79d91200",
   "metadata": {},
   "outputs": [],
   "source": [
    "# defining a function to compute different metrics to check performance of a classification model built using sklearn\n",
    "def model_performance_classification_sklearn(model, predictors, target):\n",
    "    \"\"\"\n",
    "    Function to compute different metrics to check classification model performance\n",
    "\n",
    "    model: classifier\n",
    "    predictors: independent variables\n",
    "    target: dependent variable\n",
    "    \"\"\"\n",
    "\n",
    "    # predicting using the independent variables\n",
    "    pred = model.predict(predictors)\n",
    "\n",
    "    acc = accuracy_score(target, pred)  # to compute Accuracy\n",
    "    recall = recall_score(target, pred)  # to compute Recall\n",
    "    precision = precision_score(target, pred)  # to compute Precision\n",
    "    f1 = f1_score(target, pred)  # to compute F1-score\n",
    "\n",
    "    # creating a dataframe of metrics\n",
    "    df_perf = pd.DataFrame(\n",
    "        {\n",
    "            \"Accuracy\": acc,\n",
    "            \"Recall\": recall,\n",
    "            \"Precision\": precision,\n",
    "            \"F1\": f1,\n",
    "        },\n",
    "        index=[0],\n",
    "    )\n",
    "\n",
    "    return df_perf"
   ]
  },
  {
   "cell_type": "markdown",
   "id": "19965c0a",
   "metadata": {},
   "source": [
    "# 6   Building the model"
   ]
  },
  {
   "cell_type": "markdown",
   "id": "d3758f00",
   "metadata": {},
   "source": [
    "We are going to build three models here - Bagging Classifier, Random Forest Classifier and Decision Tree.\n",
    "\n",
    "First, let's build these models with default parameters and then use hyperparameter tuning to optimize the model performance.\n",
    "\n",
    "We will calculate all four metrics - Accuracy, Precision, Recall and F1 score but the metric of interest here is recall.\n",
    "Recall - It gives the ratio of True positives to Actual positives, so high Recall implies low false negatives, i.e. low chances of predicting a potential customer as non customer"
   ]
  },
  {
   "cell_type": "markdown",
   "id": "37340af5",
   "metadata": {},
   "source": [
    "# 6.1  Bagging  "
   ]
  },
  {
   "cell_type": "markdown",
   "id": "9b72714c",
   "metadata": {},
   "source": [
    "# Bagging Classifier "
   ]
  },
  {
   "cell_type": "code",
   "execution_count": 85,
   "id": "7d6ea403",
   "metadata": {},
   "outputs": [
    {
     "data": {
      "text/plain": [
       "BaggingClassifier(random_state=1)"
      ]
     },
     "execution_count": 85,
     "metadata": {},
     "output_type": "execute_result"
    }
   ],
   "source": [
    "#Fitting the model\n",
    "bagging_classifier = BaggingClassifier(random_state=1)\n",
    "bagging_classifier.fit(X_train,y_train)"
   ]
  },
  {
   "cell_type": "code",
   "execution_count": 86,
   "id": "54ee5fe1",
   "metadata": {},
   "outputs": [
    {
     "name": "stdout",
     "output_type": "stream",
     "text": [
      "Training performance:\n",
      "    Accuracy    Recall  Precision       F1\n",
      "0  0.993947  0.969551    0.99835  0.98374\n",
      "Testing performance:\n",
      "    Accuracy    Recall  Precision        F1\n",
      "0  0.908898  0.625468   0.852041  0.721382\n"
     ]
    }
   ],
   "source": [
    "#Calculating different metrics\n",
    "bagging_classifier_model_train_perf=model_performance_classification_sklearn(bagging_classifier,X_train,y_train)\n",
    "print(\"Training performance:\\n\",bagging_classifier_model_train_perf)\n",
    "bagging_classifier_model_test_perf=model_performance_classification_sklearn(bagging_classifier,X_test,y_test)\n",
    "print(\"Testing performance:\\n\",bagging_classifier_model_test_perf)"
   ]
  },
  {
   "cell_type": "code",
   "execution_count": 87,
   "id": "e1b851fe",
   "metadata": {},
   "outputs": [
    {
     "data": {
      "image/png": "[encoded data removed]",
      "text/plain": [
       "<Figure size 432x288 with 2 Axes>"
      ]
     },
     "metadata": {
      "needs_background": "light"
     },
     "output_type": "display_data"
    }
   ],
   "source": [
    "#Creating confusion matrix\n",
    "confusion_matrix_sklearn(bagging_classifier, X_test, y_test)"
   ]
  },
  {
   "cell_type": "markdown",
   "id": "d197281c",
   "metadata": {},
   "source": [
    "Recall score between train and test data is wide,overfitting and model performance need improvement"
   ]
  },
  {
   "cell_type": "markdown",
   "id": "7e4c92ba",
   "metadata": {},
   "source": [
    "# Random Forest Classifier"
   ]
  },
  {
   "cell_type": "code",
   "execution_count": 88,
   "id": "ffc60fae",
   "metadata": {},
   "outputs": [
    {
     "data": {
      "text/plain": [
       "RandomForestClassifier(random_state=1)"
      ]
     },
     "execution_count": 88,
     "metadata": {},
     "output_type": "execute_result"
    }
   ],
   "source": [
    "#Fitting the model\n",
    "rf_estimator = RandomForestClassifier(random_state=1)\n",
    "rf_estimator.fit(X_train,y_train)"
   ]
  },
  {
   "cell_type": "code",
   "execution_count": 89,
   "id": "f01921d2",
   "metadata": {},
   "outputs": [
    {
     "name": "stdout",
     "output_type": "stream",
     "text": [
      "Training performance:\n",
      "    Accuracy  Recall  Precision   F1\n",
      "0       1.0     1.0        1.0  1.0\n",
      "Testing performance:\n",
      "    Accuracy    Recall  Precision        F1\n",
      "0  0.918079  0.606742   0.936416  0.736364\n"
     ]
    }
   ],
   "source": [
    "#Calculating different metrics\n",
    "rf_estimator_model_train_perf=model_performance_classification_sklearn(rf_estimator,X_train,y_train)\n",
    "print(\"Training performance:\\n\",rf_estimator_model_train_perf)\n",
    "rf_estimator_model_test_perf=model_performance_classification_sklearn(rf_estimator,X_test,y_test)\n",
    "print(\"Testing performance:\\n\",rf_estimator_model_test_perf)"
   ]
  },
  {
   "cell_type": "code",
   "execution_count": 90,
   "id": "c24b2956",
   "metadata": {
    "scrolled": true
   },
   "outputs": [
    {
     "data": {
      "image/png": "[encoded data removed]",
      "text/plain": [
       "<Figure size 432x288 with 2 Axes>"
      ]
     },
     "metadata": {
      "needs_background": "light"
     },
     "output_type": "display_data"
    }
   ],
   "source": [
    "#Creating confusion matrix\n",
    "confusion_matrix_sklearn(rf_estimator, X_test, y_test)"
   ]
  },
  {
   "cell_type": "markdown",
   "id": "cf46cd75",
   "metadata": {},
   "source": [
    "Test data gives good recall score but Trining dataset it is ovefitted"
   ]
  },
  {
   "cell_type": "markdown",
   "id": "747d178b",
   "metadata": {},
   "source": [
    "# Decision Tree"
   ]
  },
  {
   "cell_type": "code",
   "execution_count": 91,
   "id": "e0eb3d3a",
   "metadata": {},
   "outputs": [
    {
     "data": {
      "text/plain": [
       "DecisionTreeClassifier(random_state=1)"
      ]
     },
     "execution_count": 91,
     "metadata": {},
     "output_type": "execute_result"
    }
   ],
   "source": [
    "#Fitting the model\n",
    "d_tree = DecisionTreeClassifier(random_state=1)\n",
    "d_tree.fit(X_train,y_train)"
   ]
  },
  {
   "cell_type": "code",
   "execution_count": 92,
   "id": "06ea8d54",
   "metadata": {},
   "outputs": [
    {
     "name": "stdout",
     "output_type": "stream",
     "text": [
      "Training performance:\n",
      "    Accuracy  Recall  Precision   F1\n",
      "0       1.0     1.0        1.0  1.0\n",
      "Testing performance:\n",
      "    Accuracy    Recall  Precision       F1\n",
      "0  0.899011  0.734082   0.731343  0.73271\n"
     ]
    }
   ],
   "source": [
    "#Calculating different metrics\n",
    "dtree_model_train_perf=model_performance_classification_sklearn(d_tree,X_train,y_train)\n",
    "print(\"Training performance:\\n\",dtree_model_train_perf)\n",
    "dtree_model_test_perf=model_performance_classification_sklearn(d_tree,X_test,y_test)\n",
    "print(\"Testing performance:\\n\",dtree_model_test_perf)"
   ]
  },
  {
   "cell_type": "code",
   "execution_count": 93,
   "id": "c37242db",
   "metadata": {
    "scrolled": true
   },
   "outputs": [
    {
     "data": {
      "image/png": "[encoded data removed]",
      "text/plain": [
       "<Figure size 432x288 with 2 Axes>"
      ]
     },
     "metadata": {
      "needs_background": "light"
     },
     "output_type": "display_data"
    }
   ],
   "source": [
    "#Creating confusion matrix\n",
    "confusion_matrix_sklearn(d_tree, X_test, y_test)"
   ]
  },
  {
   "cell_type": "markdown",
   "id": "7131ba51",
   "metadata": {},
   "source": [
    "We see similar pattern as Random Forest model. Training dataset performance shows this is overfitting "
   ]
  },
  {
   "cell_type": "markdown",
   "id": "e766bf6c",
   "metadata": {},
   "source": [
    "Observations:-\n",
    "    Comparing above three models both Random Forest and Decision Tree are overfitted. \n",
    "    At the same time Bagging Classifier performance need improvement looking at recall score of\n",
    "    train and test data"
   ]
  },
  {
   "cell_type": "markdown",
   "id": "170640ab",
   "metadata": {},
   "source": [
    "# Tuning Bagging Classifier"
   ]
  },
  {
   "cell_type": "code",
   "execution_count": 94,
   "id": "beed4b08",
   "metadata": {},
   "outputs": [
    {
     "data": {
      "text/plain": [
       "BaggingClassifier(max_features=0.9, max_samples=0.8, n_estimators=50,\n",
       "                  random_state=1)"
      ]
     },
     "execution_count": 94,
     "metadata": {},
     "output_type": "execute_result"
    }
   ],
   "source": [
    "# Choose the type of classifier. \n",
    "bagging_estimator_tuned = BaggingClassifier(random_state=1)\n",
    "\n",
    "# Grid of parameters to choose from\n",
    "parameters = {'max_samples': [0.7,0.8,0.9,1], \n",
    "              'max_features': [0.7,0.8,0.9,1],\n",
    "              'n_estimators' : [10,20,30,40,50],\n",
    "             }\n",
    "\n",
    "# Type of scoring used to compare parameter combinations\n",
    "acc_scorer = metrics.make_scorer(metrics.recall_score)\n",
    "\n",
    "# Run the grid search\n",
    "grid_obj = GridSearchCV(bagging_estimator_tuned, parameters, scoring=acc_scorer,cv=5)\n",
    "grid_obj = grid_obj.fit(X_train, y_train)\n",
    "\n",
    "# Set the clf to the best combination of parameters\n",
    "bagging_estimator_tuned = grid_obj.best_estimator_\n",
    "\n",
    "# Fit the best algorithm to the data.\n",
    "bagging_estimator_tuned.fit(X_train, y_train)"
   ]
  },
  {
   "cell_type": "code",
   "execution_count": 95,
   "id": "266ba230",
   "metadata": {},
   "outputs": [
    {
     "name": "stdout",
     "output_type": "stream",
     "text": [
      "Training performance:\n",
      "    Accuracy    Recall  Precision        F1\n",
      "0  0.997881  0.988782        1.0  0.994359\n",
      "Testing performance:\n",
      "    Accuracy    Recall  Precision        F1\n",
      "0  0.920198  0.644195   0.905263  0.752735\n"
     ]
    }
   ],
   "source": [
    "#Calculating different metrics\n",
    "bagging_estimator_tuned_model_train_perf=model_performance_classification_sklearn(bagging_estimator_tuned,X_train,y_train)\n",
    "print(\"Training performance:\\n\",bagging_estimator_tuned_model_train_perf)\n",
    "bagging_estimator_tuned_model_test_perf=model_performance_classification_sklearn(bagging_estimator_tuned,X_test,y_test)\n",
    "print(\"Testing performance:\\n\",bagging_estimator_tuned_model_test_perf)"
   ]
  },
  {
   "cell_type": "code",
   "execution_count": 96,
   "id": "9a59e5e1",
   "metadata": {},
   "outputs": [
    {
     "data": {
      "image/png": "[encoded data removed]",
      "text/plain": [
       "<Figure size 432x288 with 2 Axes>"
      ]
     },
     "metadata": {
      "needs_background": "light"
     },
     "output_type": "display_data"
    }
   ],
   "source": [
    "#Creating confusion matrix\n",
    "confusion_matrix_sklearn(bagging_estimator_tuned, X_test, y_test)"
   ]
  },
  {
   "cell_type": "markdown",
   "id": "c84aced4",
   "metadata": {},
   "source": [
    "# Tuning Random Forest"
   ]
  },
  {
   "cell_type": "code",
   "execution_count": 97,
   "id": "b1076755",
   "metadata": {},
   "outputs": [
    {
     "data": {
      "text/plain": [
       "RandomForestClassifier(class_weight={0: 0.2, 1: 0.8},\n",
       "                       max_features=0.8999999999999999,\n",
       "                       max_samples=0.9999999999999999, min_samples_split=17,\n",
       "                       n_estimators=50, random_state=1)"
      ]
     },
     "execution_count": 97,
     "metadata": {},
     "output_type": "execute_result"
    }
   ],
   "source": [
    "# Choose the type of classifier. \n",
    "rf_tuned = RandomForestClassifier(class_weight={0:0.20,1:0.80},random_state=1)\n",
    "\n",
    "parameters = {  \n",
    "                #'max_depth': list(np.arange(3,10,1)),\n",
    "                'max_features': np.arange(0.6,1.1,0.1),\n",
    "                'max_samples': np.arange(0.7,1.1,0.1),\n",
    "                'min_samples_split': np.arange(2, 20, 5),\n",
    "                'n_estimators': np.arange(30,160,20)#,'min_impurity_decrease': [0.0001,0.001,0.01,0.1]\n",
    "}\n",
    "\n",
    "\n",
    "# Type of scoring used to compare parameter combinations\n",
    "scorer = metrics.make_scorer(metrics.recall_score)\n",
    "\n",
    "# Run the grid search\n",
    "grid_obj = GridSearchCV(rf_tuned, parameters, scoring=scorer,cv=5,n_jobs=-1)\n",
    "grid_obj = grid_obj.fit(X_train, y_train)\n",
    "\n",
    "# Set the clf to the best combination of parameters\n",
    "rf_tuned = grid_obj.best_estimator_\n",
    "\n",
    "# Fit the best algorithm to the data. \n",
    "rf_tuned.fit(X_train, y_train)"
   ]
  },
  {
   "cell_type": "code",
   "execution_count": 98,
   "id": "528c7a1b",
   "metadata": {},
   "outputs": [
    {
     "name": "stdout",
     "output_type": "stream",
     "text": [
      "Training performance:\n",
      "    Accuracy    Recall  Precision        F1\n",
      "0  0.960654  0.955128   0.853868  0.901664\n",
      "Testing performance:\n",
      "    Accuracy    Recall  Precision        F1\n",
      "0  0.893362  0.719101   0.716418  0.717757\n"
     ]
    }
   ],
   "source": [
    "#Calculating different metrics\n",
    "rf_tuned_model_train_perf=model_performance_classification_sklearn(rf_tuned,X_train,y_train)\n",
    "print(\"Training performance:\\n\",rf_tuned_model_train_perf)\n",
    "rf_tuned_model_test_perf=model_performance_classification_sklearn(rf_tuned,X_test,y_test)\n",
    "print(\"Testing performance:\\n\",rf_tuned_model_test_perf)"
   ]
  },
  {
   "cell_type": "code",
   "execution_count": 99,
   "id": "ab4d8a8f",
   "metadata": {},
   "outputs": [
    {
     "data": {
      "image/png": "[encoded data removed]",
      "text/plain": [
       "<Figure size 432x288 with 2 Axes>"
      ]
     },
     "metadata": {
      "needs_background": "light"
     },
     "output_type": "display_data"
    }
   ],
   "source": [
    "#Creating confusion matrix\n",
    "confusion_matrix_sklearn(rf_tuned, X_test, y_test)"
   ]
  },
  {
   "cell_type": "markdown",
   "id": "d1d63544",
   "metadata": {},
   "source": [
    "# Tuning Decision Tree"
   ]
  },
  {
   "cell_type": "code",
   "execution_count": 101,
   "id": "8ebe0a70",
   "metadata": {},
   "outputs": [
    {
     "data": {
      "text/plain": [
       "DecisionTreeClassifier(class_weight={0: 0.2, 1: 0.8}, max_depth=5,\n",
       "                       max_leaf_nodes=15, min_samples_leaf=10, random_state=1)"
      ]
     },
     "execution_count": 101,
     "metadata": {},
     "output_type": "execute_result"
    }
   ],
   "source": [
    "#Choose the type of classifier. \n",
    "dtree_tuned = DecisionTreeClassifier(class_weight={0:0.20,1:0.80},random_state=1)\n",
    "\n",
    "# Grid of parameters to choose from\n",
    "parameters = {'max_depth': np.arange(2,10), \n",
    "              'min_samples_leaf': [5, 7, 10, 15],\n",
    "              'max_leaf_nodes' : [2, 3, 5, 10,15]#,'min_impurity_decrease': [0.0001,0.001,0.01,0.1]\n",
    "             }\n",
    "\n",
    "# Type of scoring used to compare parameter combinations\n",
    "scorer = metrics.make_scorer(metrics.recall_score)\n",
    "\n",
    "# Run the grid search\n",
    "grid_obj = GridSearchCV(dtree_tuned, parameters, scoring=scorer,n_jobs=-1)\n",
    "grid_obj = grid_obj.fit(X_train, y_train)\n",
    "\n",
    "# Set the clf to the best combination of parameters\n",
    "dtree_tuned = grid_obj.best_estimator_\n",
    "\n",
    "# Fit the best algorithm to the data. \n",
    "dtree_tuned.fit(X_train, y_train)"
   ]
  },
  {
   "cell_type": "code",
   "execution_count": 102,
   "id": "ecdcfdfc",
   "metadata": {},
   "outputs": [
    {
     "name": "stdout",
     "output_type": "stream",
     "text": [
      "Training performance:\n",
      "    Accuracy    Recall  Precision        F1\n",
      "0  0.757869  0.777244   0.423211  0.548023\n",
      "Testing performance:\n",
      "    Accuracy    Recall  Precision        F1\n",
      "0   0.72952  0.681648   0.379167  0.487282\n"
     ]
    }
   ],
   "source": [
    "#Calculating different metrics\n",
    "dtree_tuned_model_train_perf=model_performance_classification_sklearn(dtree_tuned,X_train,y_train)\n",
    "print(\"Training performance:\\n\",dtree_tuned_model_train_perf)\n",
    "dtree_tuned_model_test_perf=model_performance_classification_sklearn(dtree_tuned,X_test,y_test)\n",
    "print(\"Testing performance:\\n\",dtree_tuned_model_test_perf)"
   ]
  },
  {
   "cell_type": "code",
   "execution_count": 103,
   "id": "dba58d87",
   "metadata": {},
   "outputs": [
    {
     "data": {
      "image/png": "[encoded data removed]",
      "text/plain": [
       "<Figure size 432x288 with 2 Axes>"
      ]
     },
     "metadata": {
      "needs_background": "light"
     },
     "output_type": "display_data"
    }
   ],
   "source": [
    "#Creating confusion matrix\n",
    "confusion_matrix_sklearn(dtree_tuned, X_test, y_test)"
   ]
  },
  {
   "cell_type": "markdown",
   "id": "722b90f6",
   "metadata": {},
   "source": [
    "# Comparing all the models"
   ]
  },
  {
   "cell_type": "code",
   "execution_count": 104,
   "id": "4b857a5e",
   "metadata": {},
   "outputs": [
    {
     "name": "stdout",
     "output_type": "stream",
     "text": [
      "Training performance comparison:\n"
     ]
    },
    {
     "data": {
      "text/html": [
       "<div>\n",
       "<style scoped>\n",
       "    .dataframe tbody tr th:only-of-type {\n",
       "        vertical-align: middle;\n",
       "    }\n",
       "\n",
       "    .dataframe tbody tr th {\n",
       "        vertical-align: top;\n",
       "    }\n",
       "\n",
       "    .dataframe thead th {\n",
       "        text-align: right;\n",
       "    }\n",
       "</style>\n",
       "<table border=\"1\" class=\"dataframe\">\n",
       "  <thead>\n",
       "    <tr style=\"text-align: right;\">\n",
       "      <th></th>\n",
       "      <th>Decision Tree</th>\n",
       "      <th>Decision Tree Tuned</th>\n",
       "      <th>Random Forest</th>\n",
       "      <th>Random Forest Tuned</th>\n",
       "      <th>Bagging Classifier</th>\n",
       "      <th>Bagging Estimator Tuned</th>\n",
       "    </tr>\n",
       "  </thead>\n",
       "  <tbody>\n",
       "    <tr>\n",
       "      <th>Accuracy</th>\n",
       "      <td>1.0</td>\n",
       "      <td>0.757869</td>\n",
       "      <td>1.0</td>\n",
       "      <td>0.960654</td>\n",
       "      <td>0.993947</td>\n",
       "      <td>0.997881</td>\n",
       "    </tr>\n",
       "    <tr>\n",
       "      <th>Recall</th>\n",
       "      <td>1.0</td>\n",
       "      <td>0.777244</td>\n",
       "      <td>1.0</td>\n",
       "      <td>0.955128</td>\n",
       "      <td>0.969551</td>\n",
       "      <td>0.988782</td>\n",
       "    </tr>\n",
       "    <tr>\n",
       "      <th>Precision</th>\n",
       "      <td>1.0</td>\n",
       "      <td>0.423211</td>\n",
       "      <td>1.0</td>\n",
       "      <td>0.853868</td>\n",
       "      <td>0.998350</td>\n",
       "      <td>1.000000</td>\n",
       "    </tr>\n",
       "    <tr>\n",
       "      <th>F1</th>\n",
       "      <td>1.0</td>\n",
       "      <td>0.548023</td>\n",
       "      <td>1.0</td>\n",
       "      <td>0.901664</td>\n",
       "      <td>0.983740</td>\n",
       "      <td>0.994359</td>\n",
       "    </tr>\n",
       "  </tbody>\n",
       "</table>\n",
       "</div>"
      ],
      "text/plain": [
       "           Decision Tree  Decision Tree Tuned  Random Forest   \\\n",
       "Accuracy             1.0             0.757869             1.0   \n",
       "Recall               1.0             0.777244             1.0   \n",
       "Precision            1.0             0.423211             1.0   \n",
       "F1                   1.0             0.548023             1.0   \n",
       "\n",
       "           Random Forest Tuned  Bagging Classifier  Bagging Estimator Tuned  \n",
       "Accuracy              0.960654            0.993947                 0.997881  \n",
       "Recall                0.955128            0.969551                 0.988782  \n",
       "Precision             0.853868            0.998350                 1.000000  \n",
       "F1                    0.901664            0.983740                 0.994359  "
      ]
     },
     "execution_count": 104,
     "metadata": {},
     "output_type": "execute_result"
    }
   ],
   "source": [
    "# training performance comparison\n",
    "\n",
    "models_train_comp_df = pd.concat(\n",
    "    [dtree_model_train_perf.T,dtree_tuned_model_train_perf.T,rf_estimator_model_train_perf.T,rf_tuned_model_train_perf.T,\n",
    "     bagging_classifier_model_train_perf.T,bagging_estimator_tuned_model_train_perf.T],\n",
    "    axis=1,\n",
    ")\n",
    "models_train_comp_df.columns = [\n",
    "    \"Decision Tree\",\n",
    "    \"Decision Tree Tuned\",\n",
    "    \"Random Forest \",\n",
    "    \"Random Forest Tuned\",\n",
    "    \"Bagging Classifier\",\n",
    "    \"Bagging Estimator Tuned\"]\n",
    "print(\"Training performance comparison:\")\n",
    "models_train_comp_df"
   ]
  },
  {
   "cell_type": "code",
   "execution_count": 105,
   "id": "8edc46ed",
   "metadata": {},
   "outputs": [
    {
     "name": "stdout",
     "output_type": "stream",
     "text": [
      "Testing performance comparison:\n"
     ]
    },
    {
     "data": {
      "text/html": [
       "<div>\n",
       "<style scoped>\n",
       "    .dataframe tbody tr th:only-of-type {\n",
       "        vertical-align: middle;\n",
       "    }\n",
       "\n",
       "    .dataframe tbody tr th {\n",
       "        vertical-align: top;\n",
       "    }\n",
       "\n",
       "    .dataframe thead th {\n",
       "        text-align: right;\n",
       "    }\n",
       "</style>\n",
       "<table border=\"1\" class=\"dataframe\">\n",
       "  <thead>\n",
       "    <tr style=\"text-align: right;\">\n",
       "      <th></th>\n",
       "      <th>Decision Tree</th>\n",
       "      <th>Decision Tree Tuned</th>\n",
       "      <th>Random Forest</th>\n",
       "      <th>Random Forest Tuned</th>\n",
       "      <th>Bagging Classifier</th>\n",
       "      <th>Bagging Estimator Tuned</th>\n",
       "    </tr>\n",
       "  </thead>\n",
       "  <tbody>\n",
       "    <tr>\n",
       "      <th>Accuracy</th>\n",
       "      <td>0.899011</td>\n",
       "      <td>0.729520</td>\n",
       "      <td>0.918079</td>\n",
       "      <td>0.893362</td>\n",
       "      <td>0.908898</td>\n",
       "      <td>0.920198</td>\n",
       "    </tr>\n",
       "    <tr>\n",
       "      <th>Recall</th>\n",
       "      <td>0.734082</td>\n",
       "      <td>0.681648</td>\n",
       "      <td>0.606742</td>\n",
       "      <td>0.719101</td>\n",
       "      <td>0.625468</td>\n",
       "      <td>0.644195</td>\n",
       "    </tr>\n",
       "    <tr>\n",
       "      <th>Precision</th>\n",
       "      <td>0.731343</td>\n",
       "      <td>0.379167</td>\n",
       "      <td>0.936416</td>\n",
       "      <td>0.716418</td>\n",
       "      <td>0.852041</td>\n",
       "      <td>0.905263</td>\n",
       "    </tr>\n",
       "    <tr>\n",
       "      <th>F1</th>\n",
       "      <td>0.732710</td>\n",
       "      <td>0.487282</td>\n",
       "      <td>0.736364</td>\n",
       "      <td>0.717757</td>\n",
       "      <td>0.721382</td>\n",
       "      <td>0.752735</td>\n",
       "    </tr>\n",
       "  </tbody>\n",
       "</table>\n",
       "</div>"
      ],
      "text/plain": [
       "           Decision Tree  Decision Tree Tuned  Random Forest   \\\n",
       "Accuracy        0.899011             0.729520        0.918079   \n",
       "Recall          0.734082             0.681648        0.606742   \n",
       "Precision       0.731343             0.379167        0.936416   \n",
       "F1              0.732710             0.487282        0.736364   \n",
       "\n",
       "           Random Forest Tuned  Bagging Classifier  Bagging Estimator Tuned  \n",
       "Accuracy              0.893362            0.908898                 0.920198  \n",
       "Recall                0.719101            0.625468                 0.644195  \n",
       "Precision             0.716418            0.852041                 0.905263  \n",
       "F1                    0.717757            0.721382                 0.752735  "
      ]
     },
     "execution_count": 105,
     "metadata": {},
     "output_type": "execute_result"
    }
   ],
   "source": [
    "# testing performance comparison\n",
    "\n",
    "models_test_comp_df = pd.concat(\n",
    "    [dtree_model_test_perf.T,dtree_tuned_model_test_perf.T,rf_estimator_model_test_perf.T,rf_tuned_model_test_perf.T,\n",
    "     bagging_classifier_model_test_perf.T, bagging_estimator_tuned_model_test_perf.T],\n",
    "    axis=1,\n",
    ")\n",
    "models_test_comp_df.columns = [\n",
    "    \"Decision Tree\",\n",
    "    \"Decision Tree Tuned\",\n",
    "    \"Random Forest \",\n",
    "    \"Random Forest Tuned\",\n",
    "    \"Bagging Classifier\",\n",
    "    \"Bagging Estimator Tuned\"]\n",
    "print(\"Testing performance comparison:\")\n",
    "models_test_comp_df"
   ]
  },
  {
   "cell_type": "markdown",
   "id": "20242b9e",
   "metadata": {},
   "source": [
    "Observations:-\n",
    "    * By looking at comparision we can clearly see all metrics improved after tuning\n",
    "    * Random Foreset after tuning shows better comparision results between Train and Test datasets but data is overfitted with the training dataset\n",
    "    * Comparing all models Decision Tree recall score after tuning performance looks better overall\n",
    "    "
   ]
  },
  {
   "cell_type": "markdown",
   "id": "3c26113e",
   "metadata": {},
   "source": [
    "# 6.2  Boosting"
   ]
  },
  {
   "cell_type": "markdown",
   "id": "82e403de",
   "metadata": {},
   "source": [
    "# AdaBoost Classifier"
   ]
  },
  {
   "cell_type": "code",
   "execution_count": 106,
   "id": "d06dcb3c",
   "metadata": {},
   "outputs": [
    {
     "data": {
      "text/plain": [
       "AdaBoostClassifier(random_state=1)"
      ]
     },
     "execution_count": 106,
     "metadata": {},
     "output_type": "execute_result"
    }
   ],
   "source": [
    "abc = AdaBoostClassifier(random_state=1)\n",
    "abc.fit(X_train,y_train)"
   ]
  },
  {
   "cell_type": "code",
   "execution_count": 107,
   "id": "bb6a8187",
   "metadata": {},
   "outputs": [
    {
     "name": "stdout",
     "output_type": "stream",
     "text": [
      "Training performance:\n",
      "    Accuracy    Recall  Precision        F1\n",
      "0  0.846247  0.365385   0.670588  0.473029\n",
      "Testing performance:\n",
      "    Accuracy    Recall  Precision        F1\n",
      "0   0.84322  0.337079   0.666667  0.447761\n"
     ]
    }
   ],
   "source": [
    "#Calculating different metrics\n",
    "abc_model_train_perf=model_performance_classification_sklearn(abc,X_train,y_train)\n",
    "print(\"Training performance:\\n\",abc_model_train_perf)\n",
    "abc_model_test_perf=model_performance_classification_sklearn(abc,X_test,y_test)\n",
    "print(\"Testing performance:\\n\",abc_model_test_perf)"
   ]
  },
  {
   "cell_type": "code",
   "execution_count": 108,
   "id": "98e9247e",
   "metadata": {},
   "outputs": [
    {
     "data": {
      "image/png": "[encoded data removed]",
      "text/plain": [
       "<Figure size 432x288 with 2 Axes>"
      ]
     },
     "metadata": {
      "needs_background": "light"
     },
     "output_type": "display_data"
    }
   ],
   "source": [
    "#Creating confusion matrix\n",
    "confusion_matrix_sklearn(abc, X_test, y_test)"
   ]
  },
  {
   "cell_type": "markdown",
   "id": "6e9711bb",
   "metadata": {},
   "source": [
    "# Gradient Boosting Classifier"
   ]
  },
  {
   "cell_type": "code",
   "execution_count": 109,
   "id": "d5e16af7",
   "metadata": {},
   "outputs": [
    {
     "data": {
      "text/plain": [
       "GradientBoostingClassifier(random_state=1)"
      ]
     },
     "execution_count": 109,
     "metadata": {},
     "output_type": "execute_result"
    }
   ],
   "source": [
    "gbc = GradientBoostingClassifier(random_state=1)\n",
    "gbc.fit(X_train,y_train)"
   ]
  },
  {
   "cell_type": "code",
   "execution_count": 110,
   "id": "4b2bb5ae",
   "metadata": {},
   "outputs": [
    {
     "name": "stdout",
     "output_type": "stream",
     "text": [
      "Training performance:\n",
      "    Accuracy    Recall  Precision        F1\n",
      "0  0.892252  0.501603   0.874302  0.637475\n",
      "Testing performance:\n",
      "    Accuracy    Recall  Precision    F1\n",
      "0  0.864407  0.389513   0.781955  0.52\n"
     ]
    }
   ],
   "source": [
    "#Calculating different metrics\n",
    "gbc_model_train_perf=model_performance_classification_sklearn(gbc,X_train,y_train)\n",
    "print(\"Training performance:\\n\",gbc_model_train_perf)\n",
    "gbc_model_test_perf=model_performance_classification_sklearn(gbc,X_test,y_test)\n",
    "print(\"Testing performance:\\n\",gbc_model_test_perf)"
   ]
  },
  {
   "cell_type": "code",
   "execution_count": 111,
   "id": "13519023",
   "metadata": {},
   "outputs": [
    {
     "data": {
      "image/png": "[encoded data removed]",
      "text/plain": [
       "<Figure size 432x288 with 2 Axes>"
      ]
     },
     "metadata": {
      "needs_background": "light"
     },
     "output_type": "display_data"
    }
   ],
   "source": [
    "#Creating confusion matrix\n",
    "confusion_matrix_sklearn(gbc, X_test, y_test)"
   ]
  },
  {
   "cell_type": "markdown",
   "id": "2acbc317",
   "metadata": {},
   "source": [
    "# XGBoost Classifier"
   ]
  },
  {
   "cell_type": "code",
   "execution_count": 112,
   "id": "82fa30ba",
   "metadata": {
    "scrolled": true
   },
   "outputs": [
    {
     "data": {
      "text/plain": [
       "XGBClassifier(base_score=0.5, booster='gbtree', colsample_bylevel=1,\n",
       "              colsample_bynode=1, colsample_bytree=1, enable_categorical=False,\n",
       "              eval_metric='logloss', gamma=0, gpu_id=-1, importance_type=None,\n",
       "              interaction_constraints='', learning_rate=0.300000012,\n",
       "              max_delta_step=0, max_depth=6, min_child_weight=1, missing=nan,\n",
       "              monotone_constraints='()', n_estimators=100, n_jobs=8,\n",
       "              num_parallel_tree=1, predictor='auto', random_state=1,\n",
       "              reg_alpha=0, reg_lambda=1, scale_pos_weight=1, subsample=1,\n",
       "              tree_method='exact', validate_parameters=1, verbosity=None)"
      ]
     },
     "execution_count": 112,
     "metadata": {},
     "output_type": "execute_result"
    }
   ],
   "source": [
    "xgb = XGBClassifier(random_state=1,eval_metric='logloss')\n",
    "xgb.fit(X_train,y_train)"
   ]
  },
  {
   "cell_type": "code",
   "execution_count": 113,
   "id": "03f5fe4b",
   "metadata": {
    "scrolled": true
   },
   "outputs": [
    {
     "name": "stdout",
     "output_type": "stream",
     "text": [
      "Training performance:\n",
      "    Accuracy    Recall  Precision        F1\n",
      "0  0.999697  0.998397        1.0  0.999198\n",
      "Testing performance:\n",
      "    Accuracy    Recall  Precision        F1\n",
      "0  0.920904  0.670412   0.881773  0.761702\n"
     ]
    }
   ],
   "source": [
    "#Calculating different metrics\n",
    "xgb_model_train_perf=model_performance_classification_sklearn(xgb,X_train,y_train)\n",
    "print(\"Training performance:\\n\",xgb_model_train_perf)\n",
    "xgb_model_test_perf=model_performance_classification_sklearn(xgb,X_test,y_test)\n",
    "print(\"Testing performance:\\n\",xgb_model_test_perf)"
   ]
  },
  {
   "cell_type": "code",
   "execution_count": 114,
   "id": "8753c695",
   "metadata": {},
   "outputs": [
    {
     "data": {
      "image/png": "[encoded data removed]",
      "text/plain": [
       "<Figure size 432x288 with 2 Axes>"
      ]
     },
     "metadata": {
      "needs_background": "light"
     },
     "output_type": "display_data"
    }
   ],
   "source": [
    "#Creating confusion matrix\n",
    "confusion_matrix_sklearn(xgb, X_test, y_test)"
   ]
  },
  {
   "cell_type": "markdown",
   "id": "9d7cb2f3",
   "metadata": {},
   "source": [
    "# Hyperparameter Tuning"
   ]
  },
  {
   "cell_type": "markdown",
   "id": "f067e7e5",
   "metadata": {},
   "source": [
    "# AdaBoost Classifier"
   ]
  },
  {
   "cell_type": "code",
   "execution_count": 115,
   "id": "3c54c795",
   "metadata": {},
   "outputs": [
    {
     "data": {
      "text/plain": [
       "AdaBoostClassifier(base_estimator=DecisionTreeClassifier(max_depth=3,\n",
       "                                                         random_state=1),\n",
       "                   learning_rate=1.2000000000000002, n_estimators=100,\n",
       "                   random_state=1)"
      ]
     },
     "execution_count": 115,
     "metadata": {},
     "output_type": "execute_result"
    }
   ],
   "source": [
    "# Choose the type of classifier. \n",
    "abc_tuned = AdaBoostClassifier(random_state=1)\n",
    "\n",
    "# Grid of parameters to choose from\n",
    "## add from article\n",
    "parameters = {\n",
    "    #Let's try different max_depth for base_estimator\n",
    "    \"base_estimator\":[DecisionTreeClassifier(max_depth=1, random_state=1),DecisionTreeClassifier(max_depth=2, random_state=1),DecisionTreeClassifier(max_depth=3, random_state=1)],\n",
    "    \"n_estimators\": np.arange(10,110,10),\n",
    "    \"learning_rate\":np.arange(0.1,2,0.1)\n",
    "}\n",
    "\n",
    "# Type of scoring used to compare parameter combinations\n",
    "acc_scorer = metrics.make_scorer(metrics.recall_score)\n",
    "\n",
    "# Run the grid search\n",
    "grid_obj = GridSearchCV(abc_tuned, parameters, scoring=acc_scorer,cv=5)\n",
    "grid_obj = grid_obj.fit(X_train, y_train)\n",
    "\n",
    "# Set the clf to the best combination of parameters\n",
    "abc_tuned = grid_obj.best_estimator_\n",
    "\n",
    "# Fit the best algorithm to the data.\n",
    "abc_tuned.fit(X_train, y_train)"
   ]
  },
  {
   "cell_type": "code",
   "execution_count": 116,
   "id": "c6d019f4",
   "metadata": {},
   "outputs": [
    {
     "name": "stdout",
     "output_type": "stream",
     "text": [
      "Training performance:\n",
      "    Accuracy    Recall  Precision        F1\n",
      "0  0.996671  0.985577   0.996759  0.991136\n",
      "Testing performance:\n",
      "    Accuracy    Recall  Precision        F1\n",
      "0  0.877119  0.561798   0.724638  0.632911\n"
     ]
    }
   ],
   "source": [
    "#Calculating different metrics\n",
    "abc_tuned_model_train_perf=model_performance_classification_sklearn(abc_tuned,X_train,y_train)\n",
    "print(\"Training performance:\\n\",abc_tuned_model_train_perf)\n",
    "abc_tuned_model_test_perf=model_performance_classification_sklearn(abc_tuned,X_test,y_test)\n",
    "print(\"Testing performance:\\n\",abc_tuned_model_test_perf)"
   ]
  },
  {
   "cell_type": "code",
   "execution_count": 117,
   "id": "bd3a3173",
   "metadata": {},
   "outputs": [
    {
     "data": {
      "image/png": "[encoded data removed]",
      "text/plain": [
       "<Figure size 432x288 with 2 Axes>"
      ]
     },
     "metadata": {
      "needs_background": "light"
     },
     "output_type": "display_data"
    }
   ],
   "source": [
    "#Creating confusion matrix\n",
    "confusion_matrix_sklearn(abc_tuned, X_test, y_test)"
   ]
  },
  {
   "cell_type": "markdown",
   "id": "7e14542c",
   "metadata": {},
   "source": [
    "# Gradient Boosting Classifier"
   ]
  },
  {
   "cell_type": "code",
   "execution_count": 118,
   "id": "dd265abc",
   "metadata": {},
   "outputs": [
    {
     "data": {
      "text/plain": [
       "GradientBoostingClassifier(init=AdaBoostClassifier(random_state=1),\n",
       "                           max_features=0.9, n_estimators=250, random_state=1,\n",
       "                           subsample=0.9)"
      ]
     },
     "execution_count": 118,
     "metadata": {},
     "output_type": "execute_result"
    }
   ],
   "source": [
    "# Choose the type of classifier. \n",
    "gbc_tuned = GradientBoostingClassifier(init=AdaBoostClassifier(random_state=1),random_state=1)\n",
    "\n",
    "# Grid of parameters to choose from\n",
    "## add from article\n",
    "parameters = {\n",
    "    \"n_estimators\": [100,150,200,250],\n",
    "    \"subsample\":[0.7,0.8,0.9,1],\n",
    "    \"max_features\":[0.7,0.8,0.9,1]\n",
    "}\n",
    "\n",
    "# Type of scoring used to compare parameter combinations\n",
    "acc_scorer = metrics.make_scorer(metrics.recall_score)\n",
    "\n",
    "# Run the grid search\n",
    "grid_obj = GridSearchCV(gbc_tuned, parameters, scoring=acc_scorer,cv=5)\n",
    "grid_obj = grid_obj.fit(X_train, y_train)\n",
    "\n",
    "# Set the clf to the best combination of parameters\n",
    "gbc_tuned = grid_obj.best_estimator_\n",
    "\n",
    "# Fit the best algorithm to the data.\n",
    "gbc_tuned.fit(X_train, y_train)"
   ]
  },
  {
   "cell_type": "code",
   "execution_count": 119,
   "id": "ff36d7b3",
   "metadata": {},
   "outputs": [
    {
     "name": "stdout",
     "output_type": "stream",
     "text": [
      "Training performance:\n",
      "    Accuracy    Recall  Precision      F1\n",
      "0  0.933111  0.685897   0.944812  0.7948\n",
      "Testing performance:\n",
      "    Accuracy    Recall  Precision        F1\n",
      "0  0.877119  0.475655    0.78882  0.593458\n"
     ]
    }
   ],
   "source": [
    "#Calculating different metrics\n",
    "gbc_tuned_model_train_perf=model_performance_classification_sklearn(gbc_tuned,X_train,y_train)\n",
    "print(\"Training performance:\\n\",gbc_tuned_model_train_perf)\n",
    "gbc_tuned_model_test_perf=model_performance_classification_sklearn(gbc_tuned,X_test,y_test)\n",
    "print(\"Testing performance:\\n\",gbc_tuned_model_test_perf)"
   ]
  },
  {
   "cell_type": "code",
   "execution_count": 120,
   "id": "04f6f52d",
   "metadata": {},
   "outputs": [
    {
     "data": {
      "image/png": "[encoded data removed]",
      "text/plain": [
       "<Figure size 432x288 with 2 Axes>"
      ]
     },
     "metadata": {
      "needs_background": "light"
     },
     "output_type": "display_data"
    }
   ],
   "source": [
    "#Creating confusion matrix\n",
    "confusion_matrix_sklearn(gbc_tuned, X_test, y_test)"
   ]
  },
  {
   "cell_type": "markdown",
   "id": "4a8a1e9e",
   "metadata": {},
   "source": [
    "# Stacking Classifier"
   ]
  },
  {
   "cell_type": "code",
   "execution_count": 121,
   "id": "c0622bfd",
   "metadata": {},
   "outputs": [
    {
     "data": {
      "text/plain": [
       "StackingClassifier(estimators=[('Random Forest',\n",
       "                                RandomForestClassifier(class_weight={0: 0.2,\n",
       "                                                                     1: 0.8},\n",
       "                                                       max_features=0.8999999999999999,\n",
       "                                                       max_samples=0.9999999999999999,\n",
       "                                                       min_samples_split=17,\n",
       "                                                       n_estimators=50,\n",
       "                                                       random_state=1)),\n",
       "                               ('Gradient Boosting',\n",
       "                                GradientBoostingClassifier(init=AdaBoostClassifier(random_state=1),\n",
       "                                                           max_features=0.9,\n",
       "                                                           n_estimators=250,\n",
       "                                                           random_state=1,\n",
       "                                                           subsample=0.9)),\n",
       "                               ('Decision Tree',\n",
       "                                DecisionTreeClassifier(class_weight={0: 0.2,\n",
       "                                                                     1: 0.8},\n",
       "                                                       max_depth=5,\n",
       "                                                       max_leaf_nodes=15,\n",
       "                                                       min_samples_leaf=10,\n",
       "                                                       random_state=1))],\n",
       "                   final_estimator=GradientBoostingClassifier(init=AdaBoostClassifier(random_state=1),\n",
       "                                                              max_features=0.9,\n",
       "                                                              n_estimators=250,\n",
       "                                                              random_state=1,\n",
       "                                                              subsample=0.9))"
      ]
     },
     "execution_count": 121,
     "metadata": {},
     "output_type": "execute_result"
    }
   ],
   "source": [
    "estimators = [('Random Forest',rf_tuned), ('Gradient Boosting',gbc_tuned), ('Decision Tree',dtree_tuned)]\n",
    "\n",
    "final_estimator = gbc_tuned\n",
    "\n",
    "stacking_classifier= StackingClassifier(estimators=estimators,final_estimator=final_estimator)\n",
    "\n",
    "stacking_classifier.fit(X_train,y_train)"
   ]
  },
  {
   "cell_type": "code",
   "execution_count": 122,
   "id": "2fbced60",
   "metadata": {},
   "outputs": [
    {
     "name": "stdout",
     "output_type": "stream",
     "text": [
      "Training performance:\n",
      "    Accuracy    Recall  Precision        F1\n",
      "0  0.967918  0.911859   0.917742  0.914791\n",
      "Testing performance:\n",
      "    Accuracy    Recall  Precision        F1\n",
      "0  0.899718  0.629213   0.796209  0.702929\n"
     ]
    }
   ],
   "source": [
    "#Calculating different metrics\n",
    "stacking_classifier_model_train_perf=model_performance_classification_sklearn(stacking_classifier,X_train,y_train)\n",
    "print(\"Training performance:\\n\",stacking_classifier_model_train_perf)\n",
    "stacking_classifier_model_test_perf=model_performance_classification_sklearn(stacking_classifier,X_test,y_test)\n",
    "print(\"Testing performance:\\n\",stacking_classifier_model_test_perf)"
   ]
  },
  {
   "cell_type": "code",
   "execution_count": 123,
   "id": "43c4dcd6",
   "metadata": {},
   "outputs": [
    {
     "data": {
      "image/png": "[encoded data removed]",
      "text/plain": [
       "<Figure size 432x288 with 2 Axes>"
      ]
     },
     "metadata": {
      "needs_background": "light"
     },
     "output_type": "display_data"
    }
   ],
   "source": [
    "#Creating confusion matrix\n",
    "confusion_matrix_sklearn(stacking_classifier,X_test,y_test)"
   ]
  },
  {
   "cell_type": "code",
   "execution_count": 124,
   "id": "b599a4f8",
   "metadata": {},
   "outputs": [
    {
     "name": "stdout",
     "output_type": "stream",
     "text": [
      "Training performance comparison:\n"
     ]
    },
    {
     "data": {
      "text/html": [
       "<div>\n",
       "<style scoped>\n",
       "    .dataframe tbody tr th:only-of-type {\n",
       "        vertical-align: middle;\n",
       "    }\n",
       "\n",
       "    .dataframe tbody tr th {\n",
       "        vertical-align: top;\n",
       "    }\n",
       "\n",
       "    .dataframe thead th {\n",
       "        text-align: right;\n",
       "    }\n",
       "</style>\n",
       "<table border=\"1\" class=\"dataframe\">\n",
       "  <thead>\n",
       "    <tr style=\"text-align: right;\">\n",
       "      <th></th>\n",
       "      <th>Decision Tree</th>\n",
       "      <th>Decision Tree Estimator</th>\n",
       "      <th>Random Forest Estimator</th>\n",
       "      <th>Random Forest Tuned</th>\n",
       "      <th>Bagging Classifier</th>\n",
       "      <th>Bagging Estimator Tuned</th>\n",
       "      <th>Adaboost Classifier</th>\n",
       "      <th>Adabosst Classifier Tuned</th>\n",
       "      <th>Gradient Boost Classifier</th>\n",
       "      <th>Gradient Boost Classifier Tuned</th>\n",
       "      <th>XGBoost Classifier</th>\n",
       "      <th>Stacking Classifier</th>\n",
       "    </tr>\n",
       "  </thead>\n",
       "  <tbody>\n",
       "    <tr>\n",
       "      <th>Accuracy</th>\n",
       "      <td>1.0</td>\n",
       "      <td>0.757869</td>\n",
       "      <td>1.0</td>\n",
       "      <td>0.960654</td>\n",
       "      <td>0.993947</td>\n",
       "      <td>0.997881</td>\n",
       "      <td>0.846247</td>\n",
       "      <td>0.996671</td>\n",
       "      <td>0.892252</td>\n",
       "      <td>0.933111</td>\n",
       "      <td>0.999697</td>\n",
       "      <td>0.967918</td>\n",
       "    </tr>\n",
       "    <tr>\n",
       "      <th>Recall</th>\n",
       "      <td>1.0</td>\n",
       "      <td>0.777244</td>\n",
       "      <td>1.0</td>\n",
       "      <td>0.955128</td>\n",
       "      <td>0.969551</td>\n",
       "      <td>0.988782</td>\n",
       "      <td>0.365385</td>\n",
       "      <td>0.985577</td>\n",
       "      <td>0.501603</td>\n",
       "      <td>0.685897</td>\n",
       "      <td>0.998397</td>\n",
       "      <td>0.911859</td>\n",
       "    </tr>\n",
       "    <tr>\n",
       "      <th>Precision</th>\n",
       "      <td>1.0</td>\n",
       "      <td>0.423211</td>\n",
       "      <td>1.0</td>\n",
       "      <td>0.853868</td>\n",
       "      <td>0.998350</td>\n",
       "      <td>1.000000</td>\n",
       "      <td>0.670588</td>\n",
       "      <td>0.996759</td>\n",
       "      <td>0.874302</td>\n",
       "      <td>0.944812</td>\n",
       "      <td>1.000000</td>\n",
       "      <td>0.917742</td>\n",
       "    </tr>\n",
       "    <tr>\n",
       "      <th>F1</th>\n",
       "      <td>1.0</td>\n",
       "      <td>0.548023</td>\n",
       "      <td>1.0</td>\n",
       "      <td>0.901664</td>\n",
       "      <td>0.983740</td>\n",
       "      <td>0.994359</td>\n",
       "      <td>0.473029</td>\n",
       "      <td>0.991136</td>\n",
       "      <td>0.637475</td>\n",
       "      <td>0.794800</td>\n",
       "      <td>0.999198</td>\n",
       "      <td>0.914791</td>\n",
       "    </tr>\n",
       "  </tbody>\n",
       "</table>\n",
       "</div>"
      ],
      "text/plain": [
       "           Decision Tree  Decision Tree Estimator  Random Forest Estimator  \\\n",
       "Accuracy             1.0                 0.757869                      1.0   \n",
       "Recall               1.0                 0.777244                      1.0   \n",
       "Precision            1.0                 0.423211                      1.0   \n",
       "F1                   1.0                 0.548023                      1.0   \n",
       "\n",
       "           Random Forest Tuned  Bagging Classifier  Bagging Estimator Tuned  \\\n",
       "Accuracy              0.960654            0.993947                 0.997881   \n",
       "Recall                0.955128            0.969551                 0.988782   \n",
       "Precision             0.853868            0.998350                 1.000000   \n",
       "F1                    0.901664            0.983740                 0.994359   \n",
       "\n",
       "           Adaboost Classifier  Adabosst Classifier Tuned  \\\n",
       "Accuracy              0.846247                   0.996671   \n",
       "Recall                0.365385                   0.985577   \n",
       "Precision             0.670588                   0.996759   \n",
       "F1                    0.473029                   0.991136   \n",
       "\n",
       "           Gradient Boost Classifier  Gradient Boost Classifier Tuned  \\\n",
       "Accuracy                    0.892252                         0.933111   \n",
       "Recall                      0.501603                         0.685897   \n",
       "Precision                   0.874302                         0.944812   \n",
       "F1                          0.637475                         0.794800   \n",
       "\n",
       "           XGBoost Classifier  Stacking Classifier  \n",
       "Accuracy             0.999697             0.967918  \n",
       "Recall               0.998397             0.911859  \n",
       "Precision            1.000000             0.917742  \n",
       "F1                   0.999198             0.914791  "
      ]
     },
     "execution_count": 124,
     "metadata": {},
     "output_type": "execute_result"
    }
   ],
   "source": [
    "# training performance comparison\n",
    "\n",
    "models_train_comp_df = pd.concat(\n",
    "    [dtree_model_train_perf.T,dtree_tuned_model_train_perf.T,rf_estimator_model_train_perf.T,rf_tuned_model_train_perf.T,\n",
    "     bagging_classifier_model_train_perf.T,bagging_estimator_tuned_model_train_perf.T,abc_model_train_perf.T,\n",
    "     abc_tuned_model_train_perf.T,gbc_model_train_perf.T,gbc_tuned_model_train_perf.T,xgb_model_train_perf.T,\n",
    "     stacking_classifier_model_train_perf.T],\n",
    "    axis=1,\n",
    ")\n",
    "models_train_comp_df.columns = [\n",
    "    \"Decision Tree\",\n",
    "    \"Decision Tree Estimator\",\n",
    "    \"Random Forest Estimator\",\n",
    "    \"Random Forest Tuned\",\n",
    "    \"Bagging Classifier\",\n",
    "    \"Bagging Estimator Tuned\",\n",
    "    \"Adaboost Classifier\",\n",
    "    \"Adabosst Classifier Tuned\",\n",
    "    \"Gradient Boost Classifier\",\n",
    "    \"Gradient Boost Classifier Tuned\",\n",
    "    \"XGBoost Classifier\",\n",
    "    \"Stacking Classifier\"]\n",
    "print(\"Training performance comparison:\")\n",
    "models_train_comp_df"
   ]
  },
  {
   "cell_type": "code",
   "execution_count": 126,
   "id": "f0d41a49",
   "metadata": {},
   "outputs": [
    {
     "name": "stdout",
     "output_type": "stream",
     "text": [
      "Testing performance comparison:\n"
     ]
    },
    {
     "data": {
      "text/html": [
       "<div>\n",
       "<style scoped>\n",
       "    .dataframe tbody tr th:only-of-type {\n",
       "        vertical-align: middle;\n",
       "    }\n",
       "\n",
       "    .dataframe tbody tr th {\n",
       "        vertical-align: top;\n",
       "    }\n",
       "\n",
       "    .dataframe thead th {\n",
       "        text-align: right;\n",
       "    }\n",
       "</style>\n",
       "<table border=\"1\" class=\"dataframe\">\n",
       "  <thead>\n",
       "    <tr style=\"text-align: right;\">\n",
       "      <th></th>\n",
       "      <th>Decision Tree</th>\n",
       "      <th>Decision Tree Tuned</th>\n",
       "      <th>Random Forest Estimator</th>\n",
       "      <th>Random Forest Tuned</th>\n",
       "      <th>Bagging Classifier</th>\n",
       "      <th>Bagging Estimator Tuned</th>\n",
       "      <th>Adaboost Classifier</th>\n",
       "      <th>Adabosst Classifier Tuned</th>\n",
       "      <th>Gradient Boost Classifier</th>\n",
       "      <th>Gradient Boost Classifier Tuned</th>\n",
       "      <th>XGBoost Classifier</th>\n",
       "      <th>Stacking Classifier</th>\n",
       "    </tr>\n",
       "  </thead>\n",
       "  <tbody>\n",
       "    <tr>\n",
       "      <th>Accuracy</th>\n",
       "      <td>0.899011</td>\n",
       "      <td>0.729520</td>\n",
       "      <td>0.918079</td>\n",
       "      <td>0.893362</td>\n",
       "      <td>0.908898</td>\n",
       "      <td>0.920198</td>\n",
       "      <td>0.843220</td>\n",
       "      <td>0.877119</td>\n",
       "      <td>0.864407</td>\n",
       "      <td>0.877119</td>\n",
       "      <td>0.920904</td>\n",
       "      <td>0.899718</td>\n",
       "    </tr>\n",
       "    <tr>\n",
       "      <th>Recall</th>\n",
       "      <td>0.734082</td>\n",
       "      <td>0.681648</td>\n",
       "      <td>0.606742</td>\n",
       "      <td>0.719101</td>\n",
       "      <td>0.625468</td>\n",
       "      <td>0.644195</td>\n",
       "      <td>0.337079</td>\n",
       "      <td>0.561798</td>\n",
       "      <td>0.389513</td>\n",
       "      <td>0.475655</td>\n",
       "      <td>0.670412</td>\n",
       "      <td>0.629213</td>\n",
       "    </tr>\n",
       "    <tr>\n",
       "      <th>Precision</th>\n",
       "      <td>0.731343</td>\n",
       "      <td>0.379167</td>\n",
       "      <td>0.936416</td>\n",
       "      <td>0.716418</td>\n",
       "      <td>0.852041</td>\n",
       "      <td>0.905263</td>\n",
       "      <td>0.666667</td>\n",
       "      <td>0.724638</td>\n",
       "      <td>0.781955</td>\n",
       "      <td>0.788820</td>\n",
       "      <td>0.881773</td>\n",
       "      <td>0.796209</td>\n",
       "    </tr>\n",
       "    <tr>\n",
       "      <th>F1</th>\n",
       "      <td>0.732710</td>\n",
       "      <td>0.487282</td>\n",
       "      <td>0.736364</td>\n",
       "      <td>0.717757</td>\n",
       "      <td>0.721382</td>\n",
       "      <td>0.752735</td>\n",
       "      <td>0.447761</td>\n",
       "      <td>0.632911</td>\n",
       "      <td>0.520000</td>\n",
       "      <td>0.593458</td>\n",
       "      <td>0.761702</td>\n",
       "      <td>0.702929</td>\n",
       "    </tr>\n",
       "  </tbody>\n",
       "</table>\n",
       "</div>"
      ],
      "text/plain": [
       "           Decision Tree  Decision Tree Tuned  Random Forest Estimator  \\\n",
       "Accuracy        0.899011             0.729520                 0.918079   \n",
       "Recall          0.734082             0.681648                 0.606742   \n",
       "Precision       0.731343             0.379167                 0.936416   \n",
       "F1              0.732710             0.487282                 0.736364   \n",
       "\n",
       "           Random Forest Tuned  Bagging Classifier  Bagging Estimator Tuned  \\\n",
       "Accuracy              0.893362            0.908898                 0.920198   \n",
       "Recall                0.719101            0.625468                 0.644195   \n",
       "Precision             0.716418            0.852041                 0.905263   \n",
       "F1                    0.717757            0.721382                 0.752735   \n",
       "\n",
       "           Adaboost Classifier  Adabosst Classifier Tuned  \\\n",
       "Accuracy              0.843220                   0.877119   \n",
       "Recall                0.337079                   0.561798   \n",
       "Precision             0.666667                   0.724638   \n",
       "F1                    0.447761                   0.632911   \n",
       "\n",
       "           Gradient Boost Classifier  Gradient Boost Classifier Tuned  \\\n",
       "Accuracy                    0.864407                         0.877119   \n",
       "Recall                      0.389513                         0.475655   \n",
       "Precision                   0.781955                         0.788820   \n",
       "F1                          0.520000                         0.593458   \n",
       "\n",
       "           XGBoost Classifier  Stacking Classifier  \n",
       "Accuracy             0.920904             0.899718  \n",
       "Recall               0.670412             0.629213  \n",
       "Precision            0.881773             0.796209  \n",
       "F1                   0.761702             0.702929  "
      ]
     },
     "execution_count": 126,
     "metadata": {},
     "output_type": "execute_result"
    }
   ],
   "source": [
    "# testing performance comparison\n",
    "\n",
    "models_test_comp_df = pd.concat(\n",
    "    [dtree_model_test_perf.T,dtree_tuned_model_test_perf.T,rf_estimator_model_test_perf.T,rf_tuned_model_test_perf.T,\n",
    "     bagging_classifier_model_test_perf.T,bagging_estimator_tuned_model_test_perf.T,abc_model_test_perf.T,\n",
    "     abc_tuned_model_test_perf.T,gbc_model_test_perf.T,gbc_tuned_model_test_perf.T,xgb_model_test_perf.T,\n",
    "     stacking_classifier_model_test_perf.T],\n",
    "    axis=1,\n",
    ")\n",
    "models_test_comp_df.columns = [\n",
    "    \"Decision Tree\",\n",
    "    \"Decision Tree Tuned\",\n",
    "    \"Random Forest Estimator\",\n",
    "    \"Random Forest Tuned\",\n",
    "    \"Bagging Classifier\",\n",
    "    \"Bagging Estimator Tuned\",\n",
    "    \"Adaboost Classifier\",\n",
    "    \"Adabosst Classifier Tuned\",\n",
    "    \"Gradient Boost Classifier\",\n",
    "    \"Gradient Boost Classifier Tuned\",\n",
    "    \"XGBoost Classifier\",\n",
    "    \"Stacking Classifier\"]\n",
    "print(\"Testing performance comparison:\")\n",
    "models_test_comp_df"
   ]
  },
  {
   "cell_type": "markdown",
   "id": "990e57c4",
   "metadata": {},
   "source": [
    "Most models are overfitting the training data in terms of Recall score.\n",
    "The Random Forest tuned is giving the highest Recall score on the test data but is overfitting the training data.\n",
    "The Decision Tree after tuning has given the second-highest test Recall score and is giving a more generalized performance as compared to the Random Forest."
   ]
  },
  {
   "cell_type": "markdown",
   "id": "c9323b60",
   "metadata": {},
   "source": [
    "# Feature importance of Tuned Decision Tree"
   ]
  },
  {
   "cell_type": "code",
   "execution_count": 131,
   "id": "929c0130",
   "metadata": {},
   "outputs": [
    {
     "data": {
      "image/png": "[encoded data removed]",
      "text/plain": [
       "<Figure size 864x864 with 1 Axes>"
      ]
     },
     "metadata": {
      "needs_background": "light"
     },
     "output_type": "display_data"
    }
   ],
   "source": [
    "importances = dtree_tuned.feature_importances_\n",
    "indices = np.argsort(importances)\n",
    "feature_names = list(X.columns)\n",
    "\n",
    "plt.figure(figsize=(12,12))\n",
    "plt.title('Feature Importances')\n",
    "plt.barh(range(len(indices)), importances[indices], color='violet', align='center')\n",
    "plt.yticks(range(len(indices)), [feature_names[i] for i in indices])\n",
    "plt.xlabel('Relative Importance')\n",
    "plt.show()"
   ]
  },
  {
   "cell_type": "markdown",
   "id": "3e0f5942",
   "metadata": {},
   "source": [
    "Passport is the most important feature to attract more customers to take the travel packages"
   ]
  },
  {
   "cell_type": "markdown",
   "id": "8814b8bc",
   "metadata": {},
   "source": [
    "# Recommendations"
   ]
  },
  {
   "cell_type": "code",
   "execution_count": null,
   "id": "d74934f7",
   "metadata": {},
   "outputs": [],
   "source": [
    "Based on our analysis, we can say that in order to convince more customers to take travle packages offered:\n",
    "    \n",
    "* Offer Passport Service\n",
    "* Focus on pitching basic packages to more would be customers\n",
    "* Target more married customers\n",
    "* Increase pitch time\n",
    "* Focus more on the age of customers\n",
    "* Targeting specific city tier customers\n",
    "\n",
    "The company should focus more on the above mentioned variables. Adjusting those variables to find desired performance level \n",
    "and targeting those customers will benefit \"Visit with us\" to expand thier business "
   ]
  },
  {
   "cell_type": "code",
   "execution_count": null,
   "id": "6ef88c83",
   "metadata": {},
   "outputs": [],
   "source": []
  }
 ],
 "metadata": {
  "kernelspec": {
   "display_name": "Python 3",
   "language": "python",
   "name": "python3"
  },
  "language_info": {
   "codemirror_mode": {
    "name": "ipython",
    "version": 3
   },
   "file_extension": ".py",
   "mimetype": "text/x-python",
   "name": "python",
   "nbconvert_exporter": "python",
   "pygments_lexer": "ipython3",
   "version": "3.8.8"
  }
 },
 "nbformat": 4,
 "nbformat_minor": 5
}
